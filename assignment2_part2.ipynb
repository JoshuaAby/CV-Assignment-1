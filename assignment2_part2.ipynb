{
  "cells": [
    {
      "cell_type": "markdown",
      "metadata": {
        "id": "view-in-github",
        "colab_type": "text"
      },
      "source": [
        "<a href=\"https://colab.research.google.com/github/JoshuaAby/CV-Assignment-1/blob/main/assignment2_part2.ipynb\" target=\"_parent\"><img src=\"https://colab.research.google.com/assets/colab-badge.svg\" alt=\"Open In Colab\"/></a>"
      ]
    },
    {
      "cell_type": "markdown",
      "id": "367ea638",
      "metadata": {
        "id": "367ea638"
      },
      "source": [
        "# ITCS 4152/5152 Assignment2-Part2\n",
        "**Due date: 11:59 pm EST on Oct 31, 2022 (Mon.)**\n",
        "\n",
        "---\n",
        "In this semester, we will use Google Colab for the assignments, which allows us to utilize resources that some of us might not have in their local machines such as GPUs. You will need to use your UNC Charlotte (*.uncc.edu) account for coding and Google Drive to save your results.\n",
        "\n",
        "## Google Colab Tutorial\n",
        "---\n",
        "Go to https://colab.research.google.com/notebooks/, you will see a tutorial named \"Welcome to Colaboratory\" file, where you can learn the basics of using google colab.\n",
        "\n",
        "Settings used for assignments: ***Edit -> Notebook Settings -> Runtime Type (Python 3)***.\n",
        "\n",
        "\n",
        "## Description\n",
        "---\n",
        "This project is an introduction to deep learning tools for computer vision. You will design and train deep convolutional networks for scene recognition using [PyTorch](http://pytorch.org). You can visualize the\n",
        "structure of the network with [mNeuron] (http://vision03.csail.mit.edu/cnn_art/index.html)\n",
        "\n",
        "In Problem 1 of the project you will train a deep convolutional network from scratch to recognize scenes. The starter codes gives you methods to load data and display them. You will need to define a simple network architecture and add jittering, normalization, and regularization to increase recognition accuracy to 50, 60, or perhaps 70%. Unfortunately, we only have 2,400 training examples so it doesn't seem possible to train a network from scratch which outperforms hand-crafted features\n",
        "\n",
        "\n",
        "This is an approach that represent the most common approaches to recognition problems in computer vision today -- train a deep network from scratch if you have enough data (it's not always obvious whether or not you do).\n",
        "\n",
        "There are 2 sub problems (under Problem 1) in this homework with a total of 60 points. Be sure to read **Submission Guidelines** below. They are important. For the problems requiring text descriptions, you might want to add a markdown block for that.\n",
        "\n",
        "## Dataset\n",
        "---\n",
        "Save the [dataset(click me)](https://drive.google.com/open?id=1NWC3TMsXSWN2TeoYMCjhf2N1b-WRDh-M) into your working folder in your Google Drive for this homework. <br>\n",
        "Under your root folder, there should be a folder named \"data\" (i.e. XXX/Surname_Givenname_SBUID/data) containing the images.\n",
        "**Do not upload** the data subfolder before submitting on blackboard due to size limit. There should be only one .ipynb file under your root folder Surname_Givenname_SBUID.\n",
        "\n",
        "## Some Tutorials (PyTorch)\n",
        "---\n",
        "- You will be using PyTorch for deep learning toolbox (follow the [link](http://pytorch.org) for installation).\n",
        "- For PyTorch beginners, please read this [tutorial](http://pytorch.org/tutorials/beginner/deep_learning_60min_blitz.html) before doing your homework.\n",
        "- Feel free to study more tutorials at http://pytorch.org/tutorials/.\n",
        "- Find cool visualization here at http://playground.tensorflow.org."
      ]
    },
    {
      "cell_type": "code",
      "execution_count": 2,
      "id": "163b6de2",
      "metadata": {
        "id": "163b6de2"
      },
      "outputs": [],
      "source": [
        "# import packages here\n",
        "import cv2\n",
        "import numpy as np\n",
        "import matplotlib.pyplot as plt\n",
        "import glob\n",
        "import random \n",
        "import time\n",
        "\n",
        "import torch\n",
        "import torchvision\n",
        "import torchvision.transforms as transforms\n",
        "\n",
        "from torch.autograd import Variable\n",
        "import torch.nn as nn\n",
        "import torch.nn.functional as F"
      ]
    },
    {
      "cell_type": "code",
      "execution_count": 3,
      "id": "502f4fec",
      "metadata": {
        "id": "502f4fec",
        "colab": {
          "base_uri": "https://localhost:8080/"
        },
        "outputId": "44ff8aa6-92fc-4461-eeb0-801f949e594c"
      },
      "outputs": [
        {
          "output_type": "stream",
          "name": "stdout",
          "text": [
            "Mounted at /content/gdrive\n"
          ]
        }
      ],
      "source": [
        "# Mount your google drive where you've saved your assignment folder\n",
        "from google.colab import drive\n",
        "drive.mount('/content/gdrive')"
      ]
    },
    {
      "cell_type": "code",
      "execution_count": 4,
      "id": "b41de13c",
      "metadata": {
        "id": "b41de13c",
        "colab": {
          "base_uri": "https://localhost:8080/"
        },
        "outputId": "552435d9-2040-4c06-ff0b-b8e973afcff7"
      },
      "outputs": [
        {
          "output_type": "stream",
          "name": "stdout",
          "text": [
            "/content/gdrive/My Drive/Computer Vision (ITCS-5152)/assignment2-part2\n"
          ]
        }
      ],
      "source": [
        "# Replace '------' with the path such that \"ITCS_4152_5152_assignment2\" is your working directory\n",
        "%cd '/content/gdrive/My Drive/Computer Vision (ITCS-5152)/assignment2-part2'"
      ]
    },
    {
      "cell_type": "markdown",
      "id": "437b789c",
      "metadata": {
        "id": "437b789c"
      },
      "source": [
        "## Problem 0: Loading and Preprocessing data\n",
        "---\n",
        "(0 point) In this part, you are provided with a function that loads data into minibatches for training and testing in PyTorch. However, some preprocessing parts are missing. Your will need to implement them when doing Problem 1."
      ]
    },
    {
      "cell_type": "code",
      "execution_count": 5,
      "id": "1988d6ee",
      "metadata": {
        "id": "1988d6ee",
        "colab": {
          "base_uri": "https://localhost:8080/"
        },
        "outputId": "cb68f9c3-dd89-4df8-f7e0-1d0ff60b70cb"
      },
      "outputs": [
        {
          "output_type": "stream",
          "name": "stdout",
          "text": [
            "class_names: {0: 'Bedroom', 1: 'Coast', 2: 'Forest', 3: 'Flower', 4: 'Highway', 5: 'Industrial', 6: 'Kitchen', 7: 'InsideCity', 8: 'Suburb', 9: 'Store', 10: 'OpenCountry', 11: 'LivingRoom', 12: 'Mountain', 13: 'Street', 14: 'TallBuilding', 15: 'Office'} \n"
          ]
        }
      ],
      "source": [
        "#--------------------------------------------------\n",
        "#    Load Training Data and Testing Data\n",
        "#--------------------------------------------------\n",
        "\n",
        "def set_random_seed(seed):\n",
        "     torch.manual_seed(seed)\n",
        "     torch.cuda.manual_seed_all(seed)\n",
        "     np.random.seed(seed)\n",
        "     random.seed(seed)\n",
        "     torch.backends.cudnn.deterministic = True\n",
        "set_random_seed(0)\n",
        "\n",
        "class_names = [name[13:] for name in glob.glob('./data/train/*')]\n",
        "class_names = dict(zip(range(len(class_names)), class_names))\n",
        "print(\"class_names: %s \" % class_names)\n",
        "\n",
        "def load_dataset(path, img_size, num_per_class=-1, batch_size=16, shuffle=False,\n",
        "           augment=False, is_color=False, rotate = 0, zero_centered=False):    \n",
        "    data = []\n",
        "    labels = []    \n",
        "    channel_num = 3 if is_color else 1\n",
        "        \n",
        "    # read images and resizing\n",
        "    for id, class_name in class_names.items():\n",
        "        print(\"Loading images from class: %s\" % id)\n",
        "        img_path_class = glob.glob(path + class_name + '/*.jpg')\n",
        "        if num_per_class > 0:\n",
        "            img_path_class = img_path_class[:num_per_class]\n",
        "        labels.extend([id]*len(img_path_class))\n",
        "        for filename in img_path_class:\n",
        "            if is_color:\n",
        "                img = cv2.imread(filename)\n",
        "            else:\n",
        "                img = cv2.imread(filename, 0)\n",
        "            \n",
        "            # resize the image\n",
        "            img = cv2.resize(img, img_size, cv2.INTER_LINEAR)\n",
        "            \n",
        "            if is_color:\n",
        "                img = np.transpose(img, [2, 0, 1])\n",
        "            \n",
        "            # norm pixel values to [-1, 1]\n",
        "            data.append(img.astype(np.float)/255*2-1)\n",
        "            \n",
        "    ##########--WRITE YOUR CODE HERE--##########\n",
        "    # Data Augmentation \n",
        "    if augment: \n",
        "      print('Augmenting data by horizontally flipping them!')\n",
        "      flipped_images = []\n",
        "      flipped_labels = []\n",
        "      for index, img in enumerate(data):\n",
        "        horizontal_flip = cv2.flip(img, 1)\n",
        "        flipped_images.append(horizontal_flip)\n",
        "        # if index == 10:\n",
        "        #   reflip = cv2.flip(horizontal_flip, 1)\n",
        "        #   print(reflip - img)\n",
        "        flipped_labels.append(labels[index])\n",
        "\n",
        "      print('Total flipped images: ', len(flipped_images))\n",
        "      print('Total data before flipped images: ', len(data))\n",
        "      data.extend(flipped_images)\n",
        "      labels.extend(flipped_labels)\n",
        "      print('Total data after adding horizontally flipped images: ', len(data))\n",
        "\n",
        "    if rotate != 0:\n",
        "      print('Augmenting data by randomly rotating them!')\n",
        "      flipped_images = []\n",
        "      flipped_labels = []\n",
        "      for index, img in enumerate(data):\n",
        "        ang_rot = np.random.uniform(rotate) - rotate / 2\n",
        "        rows, cols = img.shape\n",
        "        Rot_M = cv2.getRotationMatrix2D((cols/2,rows/2), ang_rot, 1)\n",
        "        rotated_img = cv2.warpAffine(img,Rot_M,(cols,rows))\n",
        "        flipped_images.append(rotated_img)\n",
        "        flipped_labels.append(labels[index])\n",
        "\n",
        "      print('Total rotated images: ', len(flipped_images))\n",
        "      print('Total data before rotated images: ', len(data))\n",
        "      data.extend(flipped_images)\n",
        "      labels.extend(flipped_labels)\n",
        "      print('Total data after adding rotated images: ', len(data))\n",
        "\n",
        "\n",
        "    ##########-------END OF CODE-------##########    \n",
        "    \n",
        "    ##########--WRITE YOUR CODE HERE--##########\n",
        "    # Data Normalization\n",
        "    if zero_centered:\n",
        "      mean = np.mean(data, axis=0)\n",
        "      print(mean.shape)\n",
        "      for index, img in enumerate(data):\n",
        "        data[index] = img - mean\n",
        "        # if index == 10:\n",
        "        #   print(img)\n",
        "        #   print(mean)\n",
        "        #   print(data[index])\n",
        "        # data[index] = img - img.mean()\n",
        "\n",
        "\n",
        "\n",
        "        \n",
        "    ##########-------END OF CODE-------##########\n",
        "         \n",
        "    # randomly permute (this step is important for training)\n",
        "    if shuffle:\n",
        "        bundle = list(zip(data, labels))\n",
        "        random.shuffle(bundle)\n",
        "        data, labels = zip(*bundle)\n",
        "    \n",
        "    # divide data into minibatches of TorchTensors\n",
        "    if batch_size > 1:\n",
        "        batch_data = []\n",
        "        batch_labels = []\n",
        "         \n",
        "        for i in range(int(len(data) / batch_size)):\n",
        "            minibatch_d = data[i*batch_size: (i+1)*batch_size]\n",
        "            minibatch_d = np.reshape(minibatch_d, (batch_size, channel_num, img_size[0], img_size[1]))\n",
        "            batch_data.append(torch.from_numpy(minibatch_d))\n",
        "\n",
        "            minibatch_l = labels[i*batch_size: (i+1)*batch_size]\n",
        "            batch_labels.append(torch.LongTensor(minibatch_l))\n",
        "        data, labels = batch_data, batch_labels \n",
        "    \n",
        "    return zip(batch_data, batch_labels)"
      ]
    },
    {
      "cell_type": "code",
      "execution_count": 6,
      "id": "9483a7cd",
      "metadata": {
        "id": "9483a7cd",
        "colab": {
          "base_uri": "https://localhost:8080/"
        },
        "outputId": "ccab7b2b-935e-4853-c3ee-120202faecfa"
      },
      "outputs": [
        {
          "output_type": "stream",
          "name": "stdout",
          "text": [
            "Loading images from class: 0\n"
          ]
        },
        {
          "output_type": "stream",
          "name": "stderr",
          "text": [
            "/usr/local/lib/python3.7/dist-packages/ipykernel_launcher.py:43: DeprecationWarning: `np.float` is a deprecated alias for the builtin `float`. To silence this warning, use `float` by itself. Doing this will not modify any behavior and is safe. If you specifically wanted the numpy scalar type, use `np.float64` here.\n",
            "Deprecated in NumPy 1.20; for more details and guidance: https://numpy.org/devdocs/release/1.20.0-notes.html#deprecations\n"
          ]
        },
        {
          "output_type": "stream",
          "name": "stdout",
          "text": [
            "Loading images from class: 1\n",
            "Loading images from class: 2\n",
            "Loading images from class: 3\n",
            "Loading images from class: 4\n",
            "Loading images from class: 5\n",
            "Loading images from class: 6\n",
            "Loading images from class: 7\n",
            "Loading images from class: 8\n",
            "Loading images from class: 9\n",
            "Loading images from class: 10\n",
            "Loading images from class: 11\n",
            "Loading images from class: 12\n",
            "Loading images from class: 13\n",
            "Loading images from class: 14\n",
            "Loading images from class: 15\n",
            "Finish loading 37 minibatches (batch_size=64) of training samples.\n",
            "Loading images from class: 0\n",
            "Loading images from class: 1\n",
            "Loading images from class: 2\n",
            "Loading images from class: 3\n",
            "Loading images from class: 4\n",
            "Loading images from class: 5\n",
            "Loading images from class: 6\n",
            "Loading images from class: 7\n",
            "Loading images from class: 8\n",
            "Loading images from class: 9\n",
            "Loading images from class: 10\n",
            "Loading images from class: 11\n",
            "Loading images from class: 12\n",
            "Loading images from class: 13\n",
            "Loading images from class: 14\n",
            "Loading images from class: 15\n",
            "Finish loading 6 minibatches (batch_size=64) of testing samples.\n"
          ]
        }
      ],
      "source": [
        "# load data into size (64, 64)\n",
        "img_size = (64, 64)\n",
        "batch_size = 64 # training sample number per batch\n",
        "\n",
        "# load training dataset\n",
        "trainloader_small = list(load_dataset('./data/train/', img_size, batch_size=batch_size, shuffle=True))\n",
        "train_num = len(trainloader_small)\n",
        "print(\"Finish loading %d minibatches (batch_size=%d) of training samples.\" % (train_num, batch_size))\n",
        "\n",
        "# load testing dataset\n",
        "testloader_small = list(load_dataset('./data/test/', img_size, num_per_class=50, batch_size=batch_size))\n",
        "test_num = len(testloader_small)\n",
        "print(\"Finish loading %d minibatches (batch_size=%d) of testing samples.\" % (test_num, batch_size))"
      ]
    },
    {
      "cell_type": "code",
      "execution_count": 7,
      "id": "6add360c",
      "metadata": {
        "id": "6add360c",
        "colab": {
          "base_uri": "https://localhost:8080/",
          "height": 285
        },
        "outputId": "1adb7b3b-7fa3-42aa-f218-5705fa373b83"
      },
      "outputs": [
        {
          "output_type": "stream",
          "name": "stdout",
          "text": [
            "Office\n"
          ]
        },
        {
          "output_type": "display_data",
          "data": {
            "text/plain": [
              "<Figure size 432x288 with 1 Axes>"
            ],
            "image/png": "[encoded data removed]"
          },
          "metadata": {
            "needs_background": "light"
          }
        }
      ],
      "source": [
        "# show some images\n",
        "def imshow(img):\n",
        "    img = img / 2 + 0.5     # unnormalize\n",
        "    npimg = img.numpy()\n",
        "    if len(npimg.shape) > 2:\n",
        "        npimg = np.transpose(img, [1, 2, 0])\n",
        "    plt.figure\n",
        "    plt.imshow(npimg, 'gray')\n",
        "    plt.show()\n",
        "img, label = trainloader_small[0][0][11][0], trainloader_small[0][1][11]\n",
        "label = int(np.array(label))\n",
        "print(class_names[label])\n",
        "imshow(img)"
      ]
    },
    {
      "cell_type": "markdown",
      "id": "d906be39",
      "metadata": {
        "id": "d906be39"
      },
      "source": [
        "## Problem 1: Training a Network From Scratch\n",
        "Gone are the days of hand designed features. Now we have end-to-end learning in which a highly non-linear representation is learned for our data to maximize our objective function (in this case, 16-way classification accuracy). Let's start!"
      ]
    },
    {
      "cell_type": "markdown",
      "id": "d3d758ff",
      "metadata": {
        "id": "d3d758ff"
      },
      "source": [
        "First, let's define a simpe network architecture."
      ]
    },
    {
      "cell_type": "code",
      "execution_count": 8,
      "id": "67208818",
      "metadata": {
        "id": "67208818"
      },
      "outputs": [],
      "source": [
        "#--------------------------------------------------\n",
        "#       Define Network Architecture\n",
        "#--------------------------------------------------\n",
        "class TNet(nn.Module):\n",
        "    def __init__(self):\n",
        "      super(TNet,self).__init__()  \n",
        "           \n",
        "      self.features = torch.nn.Sequential(\n",
        "        nn.Conv2d(1, 16, 3),\n",
        "        nn.ReLU(),\n",
        "        nn.MaxPool2d(4, stride=4), \n",
        "      )\n",
        "      \n",
        "      self.classifier = nn.Sequential(\n",
        "         nn.Linear(3600, 16), \n",
        "      )\n",
        "      \n",
        "    def forward(self, x):\n",
        "      x = self.features(x)  \n",
        "      x = torch.flatten(x, 1)\n",
        "      x = self.classifier(x)\n",
        "      return x  "
      ]
    },
    {
      "cell_type": "markdown",
      "id": "249c193d",
      "metadata": {
        "id": "249c193d"
      },
      "source": [
        "Then, let's define model training and evaluation functions."
      ]
    },
    {
      "cell_type": "code",
      "execution_count": 9,
      "id": "e1ba6e02",
      "metadata": {
        "id": "e1ba6e02"
      },
      "outputs": [],
      "source": [
        "#--------------------------------------------------\n",
        "#       Model Training Function\n",
        "#--------------------------------------------------\n",
        "import torch.optim as optim\n",
        "import time\n",
        "  \n",
        "def trainModel(net, trainloader, train_option, testloader=None):  \n",
        "  loss_func = nn.CrossEntropyLoss()\n",
        "  lr = train_option['lr']\n",
        "  epoch = train_option['epoch']\n",
        "  device = train_option['device'] if 'device' in train_option.keys() else 'cpu'\n",
        "  log_iter = train_option['log_iter'] if 'log_iter' in train_option.keys() else 20\n",
        "  eval_epoch = 1\n",
        "  \n",
        "  if 'optimizer' in train_option.keys():\n",
        "    optimizer = train_option['optimizer']\n",
        "  else:\n",
        "    optimizer = optim.Adam(net.parameters(), lr=lr)\n",
        "\n",
        "  start_time = time.time()\n",
        "  if device == 'gpu':\n",
        "    net = net.cuda()\n",
        "    \n",
        "  iters = 0\n",
        "  running_loss = 0.0\n",
        "  for ep in range(epoch):\n",
        "    net.train()        \n",
        "    for iter, (x, y) in enumerate(trainloader):\n",
        "      iters += 1\n",
        "      batch_x = Variable(x).float()\n",
        "      batch_y = Variable(y).long()\n",
        "      if device == 'gpu':\n",
        "        batch_x = batch_x.cuda()\n",
        "        batch_y = batch_y.cuda()\n",
        "\n",
        "      outputs = net(batch_x)\n",
        "      loss = loss_func(outputs, batch_y)\n",
        "      optimizer.zero_grad()\n",
        "      loss.backward()\n",
        "      optimizer.step()\n",
        "      running_loss += loss.item()\n",
        "      \n",
        "      time_lapse = time.strftime('%H:%M:%S', time.gmtime(time.time() - start_time))\n",
        "      if iter % log_iter == 0:\n",
        "        print('Epoch:{:2d} | Iter:{:5d} | Time: {} | Train Loss: {:.4f} | Average Loss: {:.4f} '.format(ep+1, iter, time_lapse, loss.item(), running_loss/iters))\n",
        "   \n",
        "    if testloader is not None and ep % eval_epoch == 0:\n",
        "      evalModel(net, testloader)\n"
      ]
    },
    {
      "cell_type": "code",
      "execution_count": 10,
      "id": "cecead0a",
      "metadata": {
        "id": "cecead0a"
      },
      "outputs": [],
      "source": [
        "#--------------------------------------------------\n",
        "#       Model Evaluating Function\n",
        "#--------------------------------------------------\n",
        "import time\n",
        "  \n",
        "def evalModel(net, testloader): \n",
        "  acc = 0.0\n",
        "  count = 0\n",
        "  start_time = time.time()\n",
        "  device = 'gpu' if next(net.parameters()).is_cuda else 'cpu'\n",
        "  net.eval()\n",
        "  \n",
        "  for iter, (x, y) in enumerate(testloader):\n",
        "        count += x.shape[0]\n",
        "        batch_x = Variable(x).float()\n",
        "        batch_y = Variable(y).long()\n",
        "        if device == 'gpu':\n",
        "          batch_x = batch_x.cuda()\n",
        "          batch_y = batch_y.cuda()\n",
        "        outputs = net(batch_x)\n",
        "        acc += torch.sum(outputs.max(1)[1]==batch_y)\n",
        "        \n",
        "  time_lapse = time.strftime('%H:%M:%S', time.gmtime(time.time() - start_time))        \n",
        "  print('Accuracy: {:5f} | Time: {}'.format(acc/count,time_lapse))\n",
        "  "
      ]
    },
    {
      "cell_type": "markdown",
      "id": "3735abd3",
      "metadata": {
        "id": "3735abd3"
      },
      "source": [
        "Finally, let's start training and evaluation."
      ]
    },
    {
      "cell_type": "code",
      "execution_count": 11,
      "id": "2086fbf1",
      "metadata": {
        "id": "2086fbf1",
        "colab": {
          "base_uri": "https://localhost:8080/"
        },
        "outputId": "ef9bd1ea-ff02-4e18-fdf9-cec841ed6502"
      },
      "outputs": [
        {
          "output_type": "stream",
          "name": "stdout",
          "text": [
            "Epoch: 1 | Iter:    0 | Time: 00:00:10 | Train Loss: 2.7722 | Average Loss: 2.7722 \n",
            "Epoch: 1 | Iter:   20 | Time: 00:00:10 | Train Loss: 2.3902 | Average Loss: 2.6294 \n",
            "Accuracy: 0.398438 | Time: 00:00:00\n",
            "Epoch: 2 | Iter:    0 | Time: 00:00:10 | Train Loss: 1.7068 | Average Loss: 2.4440 \n",
            "Epoch: 2 | Iter:   20 | Time: 00:00:10 | Train Loss: 1.7174 | Average Loss: 2.2238 \n",
            "Accuracy: 0.424479 | Time: 00:00:00\n",
            "Epoch: 3 | Iter:    0 | Time: 00:00:10 | Train Loss: 1.3254 | Average Loss: 2.1099 \n",
            "Epoch: 3 | Iter:   20 | Time: 00:00:11 | Train Loss: 1.2831 | Average Loss: 1.9631 \n",
            "Accuracy: 0.455729 | Time: 00:00:00\n",
            "Epoch: 4 | Iter:    0 | Time: 00:00:11 | Train Loss: 1.0617 | Average Loss: 1.8759 \n",
            "Epoch: 4 | Iter:   20 | Time: 00:00:11 | Train Loss: 1.0130 | Average Loss: 1.7647 \n",
            "Accuracy: 0.479167 | Time: 00:00:00\n",
            "Epoch: 5 | Iter:    0 | Time: 00:00:11 | Train Loss: 0.8626 | Average Loss: 1.6911 \n",
            "Epoch: 5 | Iter:   20 | Time: 00:00:11 | Train Loss: 0.8192 | Average Loss: 1.6009 \n",
            "Accuracy: 0.473958 | Time: 00:00:00\n",
            "Epoch: 6 | Iter:    0 | Time: 00:00:11 | Train Loss: 0.7136 | Average Loss: 1.5376 \n",
            "Epoch: 6 | Iter:   20 | Time: 00:00:11 | Train Loss: 0.6648 | Average Loss: 1.4621 \n",
            "Accuracy: 0.463542 | Time: 00:00:00\n",
            "Epoch: 7 | Iter:    0 | Time: 00:00:11 | Train Loss: 0.5973 | Average Loss: 1.4073 \n",
            "Epoch: 7 | Iter:   20 | Time: 00:00:11 | Train Loss: 0.5375 | Average Loss: 1.3432 \n",
            "Accuracy: 0.479167 | Time: 00:00:00\n",
            "Epoch: 8 | Iter:    0 | Time: 00:00:11 | Train Loss: 0.5051 | Average Loss: 1.2958 \n",
            "Epoch: 8 | Iter:   20 | Time: 00:00:11 | Train Loss: 0.4440 | Average Loss: 1.2407 \n",
            "Accuracy: 0.486979 | Time: 00:00:00\n",
            "Epoch: 9 | Iter:    0 | Time: 00:00:11 | Train Loss: 0.4350 | Average Loss: 1.1996 \n",
            "Epoch: 9 | Iter:   20 | Time: 00:00:11 | Train Loss: 0.3699 | Average Loss: 1.1517 \n",
            "Accuracy: 0.492188 | Time: 00:00:00\n",
            "Epoch:10 | Iter:    0 | Time: 00:00:11 | Train Loss: 0.4100 | Average Loss: 1.1164 \n",
            "Epoch:10 | Iter:   20 | Time: 00:00:11 | Train Loss: 0.3077 | Average Loss: 1.0750 \n",
            "Accuracy: 0.484375 | Time: 00:00:00\n",
            "Epoch:11 | Iter:    0 | Time: 00:00:11 | Train Loss: 0.5282 | Average Loss: 1.0454 \n",
            "Epoch:11 | Iter:   20 | Time: 00:00:11 | Train Loss: 0.4151 | Average Loss: 1.0112 \n",
            "Accuracy: 0.505208 | Time: 00:00:00\n",
            "Epoch:12 | Iter:    0 | Time: 00:00:11 | Train Loss: 0.3167 | Average Loss: 0.9849 \n",
            "Epoch:12 | Iter:   20 | Time: 00:00:12 | Train Loss: 0.2355 | Average Loss: 0.9568 \n",
            "Accuracy: 0.497396 | Time: 00:00:00\n",
            "Epoch:13 | Iter:    0 | Time: 00:00:12 | Train Loss: 0.2696 | Average Loss: 0.9329 \n",
            "Epoch:13 | Iter:   20 | Time: 00:00:12 | Train Loss: 0.2507 | Average Loss: 0.9057 \n",
            "Accuracy: 0.481771 | Time: 00:00:00\n",
            "Epoch:14 | Iter:    0 | Time: 00:00:12 | Train Loss: 0.3152 | Average Loss: 0.8843 \n",
            "Epoch:14 | Iter:   20 | Time: 00:00:12 | Train Loss: 0.3410 | Average Loss: 0.8613 \n",
            "Accuracy: 0.427083 | Time: 00:00:00\n",
            "Epoch:15 | Iter:    0 | Time: 00:00:12 | Train Loss: 0.3300 | Average Loss: 0.8419 \n",
            "Epoch:15 | Iter:   20 | Time: 00:00:12 | Train Loss: 0.2518 | Average Loss: 0.8209 \n",
            "Accuracy: 0.468750 | Time: 00:00:00\n",
            "Epoch:16 | Iter:    0 | Time: 00:00:12 | Train Loss: 0.1940 | Average Loss: 0.8045 \n",
            "Epoch:16 | Iter:   20 | Time: 00:00:12 | Train Loss: 0.2466 | Average Loss: 0.7864 \n",
            "Accuracy: 0.479167 | Time: 00:00:00\n",
            "Epoch:17 | Iter:    0 | Time: 00:00:12 | Train Loss: 0.1787 | Average Loss: 0.7716 \n",
            "Epoch:17 | Iter:   20 | Time: 00:00:12 | Train Loss: 0.2658 | Average Loss: 0.7552 \n",
            "Accuracy: 0.473958 | Time: 00:00:00\n",
            "Epoch:18 | Iter:    0 | Time: 00:00:12 | Train Loss: 0.1508 | Average Loss: 0.7414 \n",
            "Epoch:18 | Iter:   20 | Time: 00:00:12 | Train Loss: 0.2107 | Average Loss: 0.7265 \n",
            "Accuracy: 0.460938 | Time: 00:00:00\n",
            "Epoch:19 | Iter:    0 | Time: 00:00:12 | Train Loss: 0.2338 | Average Loss: 0.7146 \n",
            "Epoch:19 | Iter:   20 | Time: 00:00:12 | Train Loss: 0.1985 | Average Loss: 0.7017 \n",
            "Accuracy: 0.445312 | Time: 00:00:00\n",
            "Epoch:20 | Iter:    0 | Time: 00:00:12 | Train Loss: 0.3197 | Average Loss: 0.6914 \n",
            "Epoch:20 | Iter:   20 | Time: 00:00:12 | Train Loss: 0.3361 | Average Loss: 0.6798 \n",
            "Accuracy: 0.476562 | Time: 00:00:00\n"
          ]
        }
      ],
      "source": [
        "#--------------------------------------------------\n",
        "#       Start Training & Evaluation\n",
        "#--------------------------------------------------\n",
        "net = TNet() \n",
        "train_option = {}\n",
        "train_option['lr'] = 0.002\n",
        "train_option['epoch'] = 20\n",
        "train_option['device'] = 'gpu'\n",
        "trainModel(net, trainloader_small, train_option, testloader_small)"
      ]
    },
    {
      "cell_type": "markdown",
      "id": "74f5cd7b",
      "metadata": {
        "id": "74f5cd7b"
      },
      "source": [
        "Great! You would get around 0.45-0.50 accuracy by this very simple network. Now it's your job to beat this result.\n",
        "\n",
        "### Problem 1.1\n",
        "(30 points) Try to boost the accuracy by doing the following steps:\n",
        "\n",
        "**Data Augmentation**: We don't have enough training data, let's augment the training data.\n",
        "If you **left-right flip (mirror) an image** of a scene, it never changes categories. A kitchen doesn't become a forest when mirrored. This isn't true in all domains — a \"d\" becomes a \"b\" when mirrored, so you can't \"jitter\" digit recognition training data in the same way. But we can synthetically increase our amount of training data by left-right mirroring training images during the learning process.\n",
        "\n",
        "After you implement mirroring, you should notice that your training error doesn't drop as quickly. That's actually a good thing, because it means the network isn't overfitting to the 2,400 original training images as much (because it sees 4,800 training images now, although they're not as good as 4,800 truly independent samples). Because the training and test errors fall more slowly, you may need more training epochs or you may try modifying the learning rate. You are **required** to implement mirroring as data augmentation for this part.\n",
        "\n",
        "You can try more elaborate forms of jittering -- zooming in a random amount, rotating a random amount, taking a random crop, etc. These are not required, you might want to try these in the bonus part.\n",
        "\n",
        "**Data Normalization**: The images aren't **zero-centered**. One simple trick which can help a lot is to subtract the mean from every image. It would arguably be more proper to only compute the mean from the training images (since the test/validation images should be strictly held out) but it won't make much of a difference. This part is **required**.\n",
        "\n",
        "**Network Regularization**: Add **dropout layer**. If you train your network (especially for more than the default 30 epochs) you'll see that the training error can decrease to zero while the val top1 error hovers at 40% to 50%. The network has learned weights which can perfectly recognize the training data, but those weights don't generalize to held out test data. The best regularization would be more training data but we don't have that. Instead we will use dropout regularization.\n",
        "\n",
        "What does dropout regularization do? It randomly turns off network connections at training time to fight overfitting. This prevents a unit in one layer from relying too strongly on a single unit in the previous layer. Dropout regularization can be interpreted as simultaneously training many \"thinned\" versions of your network. At test, all connections are restored which is analogous to taking an average prediction over all of the \"thinned\" networks. You can see a more complete discussion of dropout regularization in this [paper](https://www.cs.toronto.edu/~hinton/absps/JMLRdropout.pdf).\n",
        "\n",
        "The dropout layer has only one free parameter — the dropout rate — the proportion of connections that are randomly deleted. The default of 0.5 should be fine. Insert a dropout layer between your convolutional layers. In particular, insert it directly before your last convolutional layer (and try others if that helps). Your train accuracy should decrease much more slowly. That's to be expected — you're making life much harder for the training algorithm by cutting out connections randomly. In this part, you are **required** to add dropout layer to your network.\n",
        "\n",
        "**Please give detailed descriptions of your network layout in the following format:**<br>\n",
        "Data augmentation: [descriptions]<br>\n",
        "Data normalization: [descriptions]<br>\n",
        "Layer 1: [layer_type]: [Parameters]<br>\n",
        "Layer 2: [layer_type]: [Parameters]<br>\n",
        "...<br>\n",
        "**Then report the final accuracy on test set.**\n",
        "\n",
        "The minimum accuracy required for this section is **0.55**."
      ]
    },
    {
      "cell_type": "code",
      "execution_count": 12,
      "id": "4b906bbf",
      "metadata": {
        "id": "4b906bbf",
        "colab": {
          "base_uri": "https://localhost:8080/"
        },
        "outputId": "ddc10907-6665-4156-b096-2547d11f5f94"
      },
      "outputs": [
        {
          "output_type": "stream",
          "name": "stdout",
          "text": [
            "Loading images from class: 0\n"
          ]
        },
        {
          "output_type": "stream",
          "name": "stderr",
          "text": [
            "/usr/local/lib/python3.7/dist-packages/ipykernel_launcher.py:43: DeprecationWarning: `np.float` is a deprecated alias for the builtin `float`. To silence this warning, use `float` by itself. Doing this will not modify any behavior and is safe. If you specifically wanted the numpy scalar type, use `np.float64` here.\n",
            "Deprecated in NumPy 1.20; for more details and guidance: https://numpy.org/devdocs/release/1.20.0-notes.html#deprecations\n"
          ]
        },
        {
          "output_type": "stream",
          "name": "stdout",
          "text": [
            "Loading images from class: 1\n",
            "Loading images from class: 2\n",
            "Loading images from class: 3\n",
            "Loading images from class: 4\n",
            "Loading images from class: 5\n",
            "Loading images from class: 6\n",
            "Loading images from class: 7\n",
            "Loading images from class: 8\n",
            "Loading images from class: 9\n",
            "Loading images from class: 10\n",
            "Loading images from class: 11\n",
            "Loading images from class: 12\n",
            "Loading images from class: 13\n",
            "Loading images from class: 14\n",
            "Loading images from class: 15\n",
            "Augmenting data by horizontally flipping them!\n",
            "Total flipped images:  2400\n",
            "Total data before flipped images:  2400\n",
            "Total data after adding horizontally flipped images:  4800\n",
            "(64, 64)\n",
            "Finish loading 75 minibatches (batch_size=64) of training samples.\n",
            "Loading images from class: 0\n",
            "Loading images from class: 1\n",
            "Loading images from class: 2\n",
            "Loading images from class: 3\n",
            "Loading images from class: 4\n",
            "Loading images from class: 5\n",
            "Loading images from class: 6\n",
            "Loading images from class: 7\n",
            "Loading images from class: 8\n",
            "Loading images from class: 9\n",
            "Loading images from class: 10\n",
            "Loading images from class: 11\n",
            "Loading images from class: 12\n",
            "Loading images from class: 13\n",
            "Loading images from class: 14\n",
            "Loading images from class: 15\n",
            "(64, 64)\n",
            "Finish loading 6 minibatches (batch_size=64) of testing samples.\n"
          ]
        }
      ],
      "source": [
        "# load data into size (64, 64)\n",
        "img_size = (64, 64)\n",
        "batch_size = 64 # training sample number per batch\n",
        "\n",
        "# load training dataset\n",
        "trainloader_small = list(load_dataset('./data/train/', img_size, batch_size=batch_size, shuffle=True, augment=True, zero_centered=True))\n",
        "train_num = len(trainloader_small)\n",
        "print(\"Finish loading %d minibatches (batch_size=%d) of training samples.\" % (train_num, batch_size))\n",
        "\n",
        "# load testing dataset\n",
        "testloader_small = list(load_dataset('./data/test/', img_size, num_per_class=50, batch_size=batch_size, zero_centered=True))\n",
        "test_num = len(testloader_small)\n",
        "print(\"Finish loading %d minibatches (batch_size=%d) of testing samples.\" % (test_num, batch_size))"
      ]
    },
    {
      "cell_type": "code",
      "execution_count": 13,
      "id": "c2550ad0",
      "metadata": {
        "id": "c2550ad0"
      },
      "outputs": [],
      "source": [
        "#--------------------------------------------------\n",
        "#       Define Network Architecture\n",
        "#--------------------------------------------------\n",
        "class ClassifierNetwork(nn.Module):\n",
        "\n",
        "    def __init__(self, num_classes, d_out):\n",
        "        super(ClassifierNetwork, self).__init__()\n",
        "        \n",
        "        # Convolution\n",
        "        self.conv1 = nn.Conv2d(1, 32, kernel_size=3, stride=1, padding=1)\n",
        "        self.relu1 = nn.ReLU()\n",
        "        self.conv2 = nn.Conv2d(32, 64, kernel_size=3, stride=1, padding=1)\n",
        "        self.relu2 = nn.ReLU()\n",
        "        self.pool1 = torch.nn.MaxPool2d(kernel_size=2, stride=2, padding=0)\n",
        "        self.d_out = nn.Dropout(d_out)\n",
        "        self.conv3 = nn.Conv2d(64, 16, kernel_size=3, stride=1, padding=1)\n",
        "        self.relu3 = nn.ReLU()\n",
        "        self.pool2 = torch.nn.MaxPool2d(kernel_size=2, stride=2, padding=0)\n",
        "\n",
        "        # Fully Connected Layers\n",
        "        self.fc1 = nn.Linear(16 * 16 * 16, 64)\n",
        "        self.fc2 = nn.Linear(64, 32)\n",
        "        self.fc3 = nn.Linear(32, 16)\n",
        "\n",
        "    def forward(self, x):\n",
        "        y = self.conv1(x)\n",
        "        y = self.relu1(y)\n",
        "        y = self.conv2(y)\n",
        "        y = self.relu2(y)\n",
        "        y = self.pool1(y)\n",
        "        y = self.d_out(y)\n",
        "        y = self.conv3(y)\n",
        "        y = self.relu3(y)\n",
        "        y = self.pool2(y)\n",
        "        y = y.view(y.size(0), -1)\n",
        "        y = self.fc1(y)\n",
        "        y = self.fc2(y)\n",
        "        y = self.fc3(y)\n",
        "        return y"
      ]
    },
    {
      "cell_type": "code",
      "execution_count": 14,
      "id": "73d13a2e",
      "metadata": {
        "id": "73d13a2e",
        "colab": {
          "base_uri": "https://localhost:8080/"
        },
        "outputId": "07a4a648-439e-4b6d-ce3f-908f5f4f73da"
      },
      "outputs": [
        {
          "output_type": "stream",
          "name": "stdout",
          "text": [
            "ClassifierNetwork(\n",
            "  (conv1): Conv2d(1, 32, kernel_size=(3, 3), stride=(1, 1), padding=(1, 1))\n",
            "  (relu1): ReLU()\n",
            "  (conv2): Conv2d(32, 64, kernel_size=(3, 3), stride=(1, 1), padding=(1, 1))\n",
            "  (relu2): ReLU()\n",
            "  (pool1): MaxPool2d(kernel_size=2, stride=2, padding=0, dilation=1, ceil_mode=False)\n",
            "  (d_out): Dropout(p=0.5, inplace=False)\n",
            "  (conv3): Conv2d(64, 16, kernel_size=(3, 3), stride=(1, 1), padding=(1, 1))\n",
            "  (relu3): ReLU()\n",
            "  (pool2): MaxPool2d(kernel_size=2, stride=2, padding=0, dilation=1, ceil_mode=False)\n",
            "  (fc1): Linear(in_features=4096, out_features=64, bias=True)\n",
            "  (fc2): Linear(in_features=64, out_features=32, bias=True)\n",
            "  (fc3): Linear(in_features=32, out_features=16, bias=True)\n",
            ")\n",
            "75\n",
            "Epoch [1/20], Step [75/75], Loss: 2.1299, Accuracy: 32.81%\n",
            "Epoch [2/20], Step [75/75], Loss: 1.5552, Accuracy: 50.00%\n",
            "Epoch [3/20], Step [75/75], Loss: 1.3079, Accuracy: 53.12%\n",
            "Epoch [4/20], Step [75/75], Loss: 1.0835, Accuracy: 62.50%\n",
            "Epoch [5/20], Step [75/75], Loss: 0.8962, Accuracy: 73.44%\n",
            "Epoch [6/20], Step [75/75], Loss: 0.9156, Accuracy: 71.88%\n",
            "Epoch [7/20], Step [75/75], Loss: 0.7623, Accuracy: 76.56%\n",
            "Epoch [8/20], Step [75/75], Loss: 0.5819, Accuracy: 84.38%\n",
            "Epoch [9/20], Step [75/75], Loss: 0.4258, Accuracy: 87.50%\n",
            "Epoch [10/20], Step [75/75], Loss: 0.4018, Accuracy: 89.06%\n",
            "Epoch [11/20], Step [75/75], Loss: 0.4297, Accuracy: 89.06%\n",
            "Epoch [12/20], Step [75/75], Loss: 0.1885, Accuracy: 96.88%\n",
            "Epoch [13/20], Step [75/75], Loss: 0.3104, Accuracy: 90.62%\n",
            "Epoch [14/20], Step [75/75], Loss: 0.1851, Accuracy: 90.62%\n",
            "Epoch [15/20], Step [75/75], Loss: 0.2233, Accuracy: 93.75%\n",
            "Epoch [16/20], Step [75/75], Loss: 0.1299, Accuracy: 95.31%\n",
            "Epoch [17/20], Step [75/75], Loss: 0.0601, Accuracy: 100.00%\n",
            "Epoch [18/20], Step [75/75], Loss: 0.0706, Accuracy: 96.88%\n",
            "Epoch [19/20], Step [75/75], Loss: 0.1273, Accuracy: 95.31%\n",
            "Epoch [20/20], Step [75/75], Loss: 0.0211, Accuracy: 100.00%\n",
            "Train time elapsed in seconds:  33.38005065917969\n",
            "Test Accuracy of the model on test images: 57.8125 %\n",
            "Test time elapsed in seconds:  0.03563213348388672\n"
          ]
        }
      ],
      "source": [
        "#--------------------------------------------------\n",
        "#       Start Training & Evaluation\n",
        "#--------------------------------------------------\n",
        "def train(num_epochs, learning_rate, model, training_images, optimizer=None):\n",
        "  if optimizer == None:\n",
        "    optimizer = optim.Adam(model.parameters(), lr=learning_rate)\n",
        "\n",
        "  criterion = nn.CrossEntropyLoss()\n",
        "\n",
        "  since = time.time()\n",
        "  # If GPU\n",
        "  if torch.cuda.is_available():\n",
        "      model = model.cuda()\n",
        "      criterion = criterion.cuda()\n",
        "          \n",
        "  model.train()\n",
        "  print(model)\n",
        "  # print('Number of parameters: ', len(model.parameters()))\n",
        "\n",
        "  total_step = len(training_images)\n",
        "  print(total_step)\n",
        "  loss_list = []\n",
        "  acc_list = []\n",
        "\n",
        "  for epoch in range(num_epochs):\n",
        "      for i, (images, labels) in enumerate(training_images):\n",
        "          if torch.cuda.is_available():\n",
        "            # Move to GPU\n",
        "            images, labels = images.cuda(), labels.cuda()\n",
        "\n",
        "          # Run the forward pass\n",
        "          outputs = model(images.float())\n",
        "          loss = criterion(outputs, labels)\n",
        "          loss_list.append(loss.item())\n",
        "\n",
        "          # Backprop and perform Adam optimisation\n",
        "          optimizer.zero_grad()\n",
        "          loss.backward()\n",
        "          optimizer.step()\n",
        "\n",
        "          # Track the accuracy\n",
        "          total = labels.size(0)\n",
        "          _, predicted = torch.max(outputs.data, 1)\n",
        "          correct = (predicted == labels).sum().item()\n",
        "          acc_list.append(correct / total)\n",
        "\n",
        "          if i != 0 and  i % (total_step - 1) == 0:\n",
        "            print('Epoch [{}/{}], Step [{}/{}], Loss: {:.4f}, Accuracy: {:.2f}%'\n",
        "                    .format(epoch + 1, num_epochs, i + 1, total_step, loss.item(),\n",
        "                            (correct / total) * 100))\n",
        "            \n",
        "  elapsed = time.time() - since\n",
        "  print('Train time elapsed in seconds: ', elapsed)\n",
        "\n",
        "learning_rate = 0.001\n",
        "num_epochs = 20\n",
        "\n",
        "d_out = 0.5\n",
        "num_classes = 16\n",
        "model = ClassifierNetwork(num_classes, d_out)\n",
        "train(num_epochs, learning_rate, model, trainloader_small)\n",
        "\n",
        "def test(model, test_images):\n",
        "  since = time.time()\n",
        "  model.eval()\n",
        "  with torch.no_grad():\n",
        "      correct = 0\n",
        "      total = 0\n",
        "      for images, labels in test_images:\n",
        "          if torch.cuda.is_available():\n",
        "            # Move to GPU\n",
        "            images, labels = images.cuda(), labels.cuda()\n",
        "\n",
        "          outputs = model(images.float())\n",
        "          _, predicted = torch.max(outputs.data, 1)\n",
        "          total += labels.size(0)\n",
        "          correct += (predicted == labels).sum().item()\n",
        "\n",
        "      print('Test Accuracy of the model on test images: {} %'.format((correct / total) * 100))\n",
        "  \n",
        "  elapsed = time.time() - since\n",
        "  print('Test time elapsed in seconds: ', elapsed)\n",
        "\n",
        "test(model, testloader_small)"
      ]
    },
    {
      "cell_type": "markdown",
      "id": "3608bff9",
      "metadata": {
        "id": "3608bff9"
      },
      "source": [
        "**Answer**:\n",
        "\n",
        "(1) which layers of AlexNet have been replaced\n",
        "\n",
        "\n",
        "\n",
        "(2) the architecture of the new layers added including activation methods (same as problem 1)\n",
        "\n",
        "Data augmentation: \n",
        "\n",
        "Data normalization: \n",
        "\n",
        "Features Layers : \n",
        "\n",
        "Classifier Layer 1: \n",
        "\n",
        "Classifier Layer 2: \n",
        "\n",
        "Classifier Layer 3: \n",
        "\n",
        "...\n",
        "\n",
        "(3) the final accuracy on test set\n",
        "\n",
        "Accuracy on test set: \n",
        "\n"
      ]
    },
    {
      "cell_type": "markdown",
      "source": [],
      "metadata": {
        "id": "7eNZ1Dmi-SoU"
      },
      "id": "7eNZ1Dmi-SoU"
    },
    {
      "cell_type": "markdown",
      "id": "af911377",
      "metadata": {
        "id": "af911377"
      },
      "source": [
        "## Problem 1.2\n",
        "\n",
        "(30 points) Try **three different techniques** taught in the class to increase the accuracy of your model. Such as increasing training data by randomly rotating training images, adding batch normalization, different activation functions (e.g., sigmoid) and model architecture modification. Note that too many layers can do you no good due to insufficient training data. Clearly describe your method and accuracy increase/decrease for each of the three techniques.\n",
        "\n",
        "The minimum accuracy required for this section is **0.60**. (At least one Technique should achieve this)\n",
        "\n",
        "### Technique 1"
      ]
    },
    {
      "cell_type": "code",
      "execution_count": 24,
      "id": "c1509b92",
      "metadata": {
        "id": "c1509b92",
        "colab": {
          "base_uri": "https://localhost:8080/"
        },
        "outputId": "66788e06-a4dc-4acf-b05d-ae53a3e4ab28"
      },
      "outputs": [
        {
          "output_type": "stream",
          "name": "stdout",
          "text": [
            "Loading images from class: 0\n"
          ]
        },
        {
          "output_type": "stream",
          "name": "stderr",
          "text": [
            "/usr/local/lib/python3.7/dist-packages/ipykernel_launcher.py:43: DeprecationWarning: `np.float` is a deprecated alias for the builtin `float`. To silence this warning, use `float` by itself. Doing this will not modify any behavior and is safe. If you specifically wanted the numpy scalar type, use `np.float64` here.\n",
            "Deprecated in NumPy 1.20; for more details and guidance: https://numpy.org/devdocs/release/1.20.0-notes.html#deprecations\n"
          ]
        },
        {
          "output_type": "stream",
          "name": "stdout",
          "text": [
            "Loading images from class: 1\n",
            "Loading images from class: 2\n",
            "Loading images from class: 3\n",
            "Loading images from class: 4\n",
            "Loading images from class: 5\n",
            "Loading images from class: 6\n",
            "Loading images from class: 7\n",
            "Loading images from class: 8\n",
            "Loading images from class: 9\n",
            "Loading images from class: 10\n",
            "Loading images from class: 11\n",
            "Loading images from class: 12\n",
            "Loading images from class: 13\n",
            "Loading images from class: 14\n",
            "Loading images from class: 15\n",
            "Augmenting data by horizontally flipping them!\n",
            "Total flipped images:  2400\n",
            "Total data before flipped images:  2400\n",
            "Total data after adding horizontally flipped images:  4800\n",
            "(64, 64)\n",
            "Finish loading 75 minibatches (batch_size=64) of training samples.\n",
            "Loading images from class: 0\n",
            "Loading images from class: 1\n",
            "Loading images from class: 2\n",
            "Loading images from class: 3\n",
            "Loading images from class: 4\n",
            "Loading images from class: 5\n",
            "Loading images from class: 6\n",
            "Loading images from class: 7\n",
            "Loading images from class: 8\n",
            "Loading images from class: 9\n",
            "Loading images from class: 10\n",
            "Loading images from class: 11\n",
            "Loading images from class: 12\n",
            "Loading images from class: 13\n",
            "Loading images from class: 14\n",
            "Loading images from class: 15\n",
            "(64, 64)\n",
            "Finish loading 6 minibatches (batch_size=64) of testing samples.\n"
          ]
        }
      ],
      "source": [
        "#--------------------------------------------------\n",
        "#    Load Training Data and Testing Data\n",
        "#--------------------------------------------------\n",
        "# load data into size (64, 64)\n",
        "img_size = (64, 64)\n",
        "batch_size = 64 # training sample number per batch\n",
        "\n",
        "# load training dataset\n",
        "trainloader_small = list(load_dataset('./data/train/', img_size, batch_size=batch_size, shuffle=True, augment=True, zero_centered=True))\n",
        "train_num = len(trainloader_small)\n",
        "print(\"Finish loading %d minibatches (batch_size=%d) of training samples.\" % (train_num, batch_size))\n",
        "\n",
        "# load testing dataset\n",
        "testloader_small = list(load_dataset('./data/test/', img_size, num_per_class=50, batch_size=batch_size, zero_centered=True))\n",
        "test_num = len(testloader_small)\n",
        "print(\"Finish loading %d minibatches (batch_size=%d) of testing samples.\" % (test_num, batch_size))"
      ]
    },
    {
      "cell_type": "code",
      "execution_count": 25,
      "id": "844b5709",
      "metadata": {
        "id": "844b5709"
      },
      "outputs": [],
      "source": [
        "#--------------------------------------------------\n",
        "#       Define Network Architecture\n",
        "#--------------------------------------------------\n",
        "class ClassifierNetworkSigmoid(nn.Module):\n",
        "\n",
        "    def __init__(self, num_classes, d_out):\n",
        "      super(ClassifierNetworkSigmoid, self).__init__()\n",
        "        \n",
        "      # Convolution\n",
        "      self.conv1 = nn.Conv2d(1, 32, kernel_size=3, stride=1, padding=1)\n",
        "      self.sigm1 = nn.Sigmoid()\n",
        "      self.conv2 = nn.Conv2d(32, 64, kernel_size=3, stride=1, padding=1)\n",
        "      self.sigm2 = nn.Sigmoid()\n",
        "      self.pool1 = torch.nn.MaxPool2d(kernel_size=2, stride=2, padding=0)\n",
        "      self.d_out = nn.Dropout(d_out)\n",
        "      self.conv3 = nn.Conv2d(64, 16, kernel_size=3, stride=1, padding=1)\n",
        "      self.sigm3 = nn.Sigmoid()\n",
        "      self.pool2 = torch.nn.MaxPool2d(kernel_size=2, stride=2, padding=0)\n",
        "\n",
        "      # Fully Connected Layers\n",
        "      self.fc1 = nn.Linear(16 * 16 * 16, 64)\n",
        "      self.fc2 = nn.Linear(64, 32)\n",
        "      self.fc3 = nn.Linear(32, 16)\n",
        "\n",
        "    def forward(self, x):\n",
        "      y = self.conv1(x)\n",
        "      y = self.sigm1(y)\n",
        "      y = self.conv2(y)\n",
        "      y = self.sigm2(y)\n",
        "      y = self.pool1(y)\n",
        "      y = self.d_out(y)\n",
        "      y = self.conv3(y)\n",
        "      y = self.sigm3(y)\n",
        "      y = self.pool2(y)\n",
        "      y = y.view(y.size(0), -1)\n",
        "      y = self.fc1(y)\n",
        "      y = self.fc2(y)\n",
        "      y = self.fc3(y)\n",
        "      return y"
      ]
    },
    {
      "cell_type": "code",
      "execution_count": 26,
      "id": "3c30ef71",
      "metadata": {
        "id": "3c30ef71",
        "colab": {
          "base_uri": "https://localhost:8080/"
        },
        "outputId": "ebd8be5f-160b-4ab9-9e8d-7e148984ebcc"
      },
      "outputs": [
        {
          "output_type": "stream",
          "name": "stdout",
          "text": [
            "ClassifierNetworkSigmoid(\n",
            "  (conv1): Conv2d(1, 32, kernel_size=(3, 3), stride=(1, 1), padding=(1, 1))\n",
            "  (sigm1): Sigmoid()\n",
            "  (conv2): Conv2d(32, 64, kernel_size=(3, 3), stride=(1, 1), padding=(1, 1))\n",
            "  (sigm2): Sigmoid()\n",
            "  (pool1): MaxPool2d(kernel_size=2, stride=2, padding=0, dilation=1, ceil_mode=False)\n",
            "  (d_out): Dropout(p=0.5, inplace=False)\n",
            "  (conv3): Conv2d(64, 16, kernel_size=(3, 3), stride=(1, 1), padding=(1, 1))\n",
            "  (sigm3): Sigmoid()\n",
            "  (pool2): MaxPool2d(kernel_size=2, stride=2, padding=0, dilation=1, ceil_mode=False)\n",
            "  (fc1): Linear(in_features=4096, out_features=64, bias=True)\n",
            "  (fc2): Linear(in_features=64, out_features=32, bias=True)\n",
            "  (fc3): Linear(in_features=32, out_features=16, bias=True)\n",
            ")\n",
            "75\n",
            "Epoch [1/20], Step [75/75], Loss: 2.7703, Accuracy: 12.50%\n",
            "Epoch [2/20], Step [75/75], Loss: 2.7720, Accuracy: 4.69%\n",
            "Epoch [3/20], Step [75/75], Loss: 2.7725, Accuracy: 4.69%\n",
            "Epoch [4/20], Step [75/75], Loss: 2.7738, Accuracy: 4.69%\n",
            "Epoch [5/20], Step [75/75], Loss: 2.7711, Accuracy: 6.25%\n",
            "Epoch [6/20], Step [75/75], Loss: 2.6268, Accuracy: 21.88%\n",
            "Epoch [7/20], Step [75/75], Loss: 2.5468, Accuracy: 28.12%\n",
            "Epoch [8/20], Step [75/75], Loss: 2.5140, Accuracy: 25.00%\n",
            "Epoch [9/20], Step [75/75], Loss: 2.4705, Accuracy: 29.69%\n",
            "Epoch [10/20], Step [75/75], Loss: 2.4110, Accuracy: 32.81%\n",
            "Epoch [11/20], Step [75/75], Loss: 2.3475, Accuracy: 39.06%\n",
            "Epoch [12/20], Step [75/75], Loss: 2.2776, Accuracy: 40.62%\n",
            "Epoch [13/20], Step [75/75], Loss: 2.2169, Accuracy: 40.62%\n",
            "Epoch [14/20], Step [75/75], Loss: 2.1191, Accuracy: 40.62%\n",
            "Epoch [15/20], Step [75/75], Loss: 2.0469, Accuracy: 43.75%\n",
            "Epoch [16/20], Step [75/75], Loss: 1.7623, Accuracy: 48.44%\n",
            "Epoch [17/20], Step [75/75], Loss: 1.4916, Accuracy: 57.81%\n",
            "Epoch [18/20], Step [75/75], Loss: 1.4075, Accuracy: 46.88%\n",
            "Epoch [19/20], Step [75/75], Loss: 1.4054, Accuracy: 46.88%\n",
            "Epoch [20/20], Step [75/75], Loss: 1.2220, Accuracy: 60.94%\n",
            "Train time elapsed in seconds:  32.72847104072571\n",
            "Test Accuracy of the model on test images: 39.58333333333333 %\n",
            "Test time elapsed in seconds:  0.03397107124328613\n"
          ]
        }
      ],
      "source": [
        "#--------------------------------------------------\n",
        "#       Start Training & Evaluation\n",
        "#--------------------------------------------------\n",
        "sigm_model = ClassifierNetworkSigmoid(num_classes, d_out)\n",
        "train(num_epochs, learning_rate, sigm_model, trainloader_small)\n",
        "test(sigm_model, testloader_small)"
      ]
    },
    {
      "cell_type": "markdown",
      "id": "33bf05db",
      "metadata": {
        "id": "33bf05db"
      },
      "source": [
        "**Answer**:\n",
        "\n",
        "Technique 1: \n",
        "\n",
        "Accuracy on test set: \n",
        "\n",
        "Accuracy increases/decreases:"
      ]
    },
    {
      "cell_type": "markdown",
      "id": "1b6ba2c7",
      "metadata": {
        "id": "1b6ba2c7"
      },
      "source": [
        "### Technique 2\n"
      ]
    },
    {
      "cell_type": "code",
      "execution_count": 27,
      "id": "bc3d85fa",
      "metadata": {
        "id": "bc3d85fa",
        "colab": {
          "base_uri": "https://localhost:8080/"
        },
        "outputId": "38fcc35d-d111-4434-c546-f4d05adfbc0e"
      },
      "outputs": [
        {
          "output_type": "stream",
          "name": "stdout",
          "text": [
            "Loading images from class: 0\n"
          ]
        },
        {
          "output_type": "stream",
          "name": "stderr",
          "text": [
            "/usr/local/lib/python3.7/dist-packages/ipykernel_launcher.py:43: DeprecationWarning: `np.float` is a deprecated alias for the builtin `float`. To silence this warning, use `float` by itself. Doing this will not modify any behavior and is safe. If you specifically wanted the numpy scalar type, use `np.float64` here.\n",
            "Deprecated in NumPy 1.20; for more details and guidance: https://numpy.org/devdocs/release/1.20.0-notes.html#deprecations\n"
          ]
        },
        {
          "output_type": "stream",
          "name": "stdout",
          "text": [
            "Loading images from class: 1\n",
            "Loading images from class: 2\n",
            "Loading images from class: 3\n",
            "Loading images from class: 4\n",
            "Loading images from class: 5\n",
            "Loading images from class: 6\n",
            "Loading images from class: 7\n",
            "Loading images from class: 8\n",
            "Loading images from class: 9\n",
            "Loading images from class: 10\n",
            "Loading images from class: 11\n",
            "Loading images from class: 12\n",
            "Loading images from class: 13\n",
            "Loading images from class: 14\n",
            "Loading images from class: 15\n",
            "Augmenting data by horizontally flipping them!\n",
            "Total flipped images:  2400\n",
            "Total data before flipped images:  2400\n",
            "Total data after adding horizontally flipped images:  4800\n",
            "(64, 64)\n",
            "Finish loading 75 minibatches (batch_size=64) of training samples.\n",
            "Loading images from class: 0\n",
            "Loading images from class: 1\n",
            "Loading images from class: 2\n",
            "Loading images from class: 3\n",
            "Loading images from class: 4\n",
            "Loading images from class: 5\n",
            "Loading images from class: 6\n",
            "Loading images from class: 7\n",
            "Loading images from class: 8\n",
            "Loading images from class: 9\n",
            "Loading images from class: 10\n",
            "Loading images from class: 11\n",
            "Loading images from class: 12\n",
            "Loading images from class: 13\n",
            "Loading images from class: 14\n",
            "Loading images from class: 15\n",
            "(64, 64)\n",
            "Finish loading 6 minibatches (batch_size=64) of testing samples.\n"
          ]
        }
      ],
      "source": [
        "#--------------------------------------------------\n",
        "#    Load Training Data and Testing Data\n",
        "#--------------------------------------------------\n",
        "# load data into size (64, 64)\n",
        "img_size = (64, 64)\n",
        "batch_size = 64 # training sample number per batch\n",
        "\n",
        "# load training dataset\n",
        "trainloader_small = list(load_dataset('./data/train/', img_size, batch_size=batch_size, shuffle=True, augment=True, zero_centered=True))\n",
        "train_num = len(trainloader_small)\n",
        "print(\"Finish loading %d minibatches (batch_size=%d) of training samples.\" % (train_num, batch_size))\n",
        "\n",
        "# load testing dataset\n",
        "testloader_small = list(load_dataset('./data/test/', img_size, num_per_class=50, batch_size=batch_size, zero_centered=True))\n",
        "test_num = len(testloader_small)\n",
        "print(\"Finish loading %d minibatches (batch_size=%d) of testing samples.\" % (test_num, batch_size))"
      ]
    },
    {
      "cell_type": "code",
      "execution_count": 28,
      "id": "19fe4e42",
      "metadata": {
        "id": "19fe4e42"
      },
      "outputs": [],
      "source": [
        "#--------------------------------------------------\n",
        "#       Define Network Architecture\n",
        "#--------------------------------------------------\n",
        "class ClassifierNetworkBatchNorm(nn.Module):\n",
        "\n",
        "    def __init__(self, num_classes, d_out):\n",
        "      super(ClassifierNetworkBatchNorm, self).__init__()\n",
        "        \n",
        "      # Convolution\n",
        "      self.conv1 = nn.Conv2d(1, 32, kernel_size=3, stride=1, padding=1)\n",
        "      self.relu1 = nn.ReLU()\n",
        "      self.conv2 = nn.Conv2d(32, 64, kernel_size=3, stride=1, padding=1)\n",
        "      self.conv2_bn = nn.BatchNorm2d(64)\n",
        "      self.relu2 = nn.ReLU()\n",
        "      self.pool1 = torch.nn.MaxPool2d(kernel_size=2, stride=2, padding=0)\n",
        "      self.d_out = nn.Dropout(d_out)\n",
        "      self.conv3 = nn.Conv2d(64, 16, kernel_size=3, stride=1, padding=1)\n",
        "      self.conv3_bn = nn.BatchNorm2d(16)\n",
        "      self.relu3 = nn.ReLU()\n",
        "      self.pool2 = torch.nn.MaxPool2d(kernel_size=2, stride=2, padding=0)\n",
        "\n",
        "      # Fully Connected Layers\n",
        "      self.fc1 = nn.Linear(16 * 16 * 16, 64)\n",
        "      self.fc2 = nn.Linear(64, 32)\n",
        "      self.fc2_bn = nn.BatchNorm1d(32)\n",
        "      self.fc3 = nn.Linear(32, 16)\n",
        "\n",
        "    def forward(self, x):\n",
        "      y = self.conv1(x)\n",
        "      y = self.relu1(y)\n",
        "      y = self.conv2(y)\n",
        "      y = self.conv2_bn(y)\n",
        "      y = self.relu2(y)\n",
        "      y = self.pool1(y)\n",
        "      y = self.d_out(y)\n",
        "      y = self.conv3(y)\n",
        "      y = self.conv3_bn(y)\n",
        "      y = self.relu3(y)\n",
        "      y = self.pool2(y)\n",
        "      y = y.view(y.size(0), -1)\n",
        "      y = self.fc1(y)\n",
        "      y = self.fc2(y)\n",
        "      y = self.fc2_bn(y)\n",
        "      y = self.fc3(y)\n",
        "      return y\n"
      ]
    },
    {
      "cell_type": "code",
      "execution_count": 29,
      "id": "5e60723f",
      "metadata": {
        "id": "5e60723f",
        "colab": {
          "base_uri": "https://localhost:8080/"
        },
        "outputId": "8ec88b67-5e24-488f-eaf1-e7fc7b0c6533"
      },
      "outputs": [
        {
          "output_type": "stream",
          "name": "stdout",
          "text": [
            "ClassifierNetworkBatchNorm(\n",
            "  (conv1): Conv2d(1, 32, kernel_size=(3, 3), stride=(1, 1), padding=(1, 1))\n",
            "  (relu1): ReLU()\n",
            "  (conv2): Conv2d(32, 64, kernel_size=(3, 3), stride=(1, 1), padding=(1, 1))\n",
            "  (conv2_bn): BatchNorm2d(64, eps=1e-05, momentum=0.1, affine=True, track_running_stats=True)\n",
            "  (relu2): ReLU()\n",
            "  (pool1): MaxPool2d(kernel_size=2, stride=2, padding=0, dilation=1, ceil_mode=False)\n",
            "  (d_out): Dropout(p=0.5, inplace=False)\n",
            "  (conv3): Conv2d(64, 16, kernel_size=(3, 3), stride=(1, 1), padding=(1, 1))\n",
            "  (conv3_bn): BatchNorm2d(16, eps=1e-05, momentum=0.1, affine=True, track_running_stats=True)\n",
            "  (relu3): ReLU()\n",
            "  (pool2): MaxPool2d(kernel_size=2, stride=2, padding=0, dilation=1, ceil_mode=False)\n",
            "  (fc1): Linear(in_features=4096, out_features=64, bias=True)\n",
            "  (fc2): Linear(in_features=64, out_features=32, bias=True)\n",
            "  (fc2_bn): BatchNorm1d(32, eps=1e-05, momentum=0.1, affine=True, track_running_stats=True)\n",
            "  (fc3): Linear(in_features=32, out_features=16, bias=True)\n",
            ")\n",
            "75\n",
            "Epoch [1/20], Step [75/75], Loss: 1.8309, Accuracy: 43.75%\n",
            "Epoch [2/20], Step [75/75], Loss: 1.2644, Accuracy: 67.19%\n",
            "Epoch [3/20], Step [75/75], Loss: 0.9066, Accuracy: 75.00%\n",
            "Epoch [4/20], Step [75/75], Loss: 0.6664, Accuracy: 78.12%\n",
            "Epoch [5/20], Step [75/75], Loss: 0.4422, Accuracy: 89.06%\n",
            "Epoch [6/20], Step [75/75], Loss: 0.2572, Accuracy: 96.88%\n",
            "Epoch [7/20], Step [75/75], Loss: 0.2099, Accuracy: 96.88%\n",
            "Epoch [8/20], Step [75/75], Loss: 0.1337, Accuracy: 98.44%\n",
            "Epoch [9/20], Step [75/75], Loss: 0.1524, Accuracy: 98.44%\n",
            "Epoch [10/20], Step [75/75], Loss: 0.1033, Accuracy: 100.00%\n",
            "Epoch [11/20], Step [75/75], Loss: 0.0553, Accuracy: 100.00%\n",
            "Epoch [12/20], Step [75/75], Loss: 0.0664, Accuracy: 100.00%\n",
            "Epoch [13/20], Step [75/75], Loss: 0.0657, Accuracy: 100.00%\n",
            "Epoch [14/20], Step [75/75], Loss: 0.0366, Accuracy: 100.00%\n",
            "Epoch [15/20], Step [75/75], Loss: 0.0376, Accuracy: 100.00%\n",
            "Epoch [16/20], Step [75/75], Loss: 0.0161, Accuracy: 100.00%\n",
            "Epoch [17/20], Step [75/75], Loss: 0.0326, Accuracy: 100.00%\n",
            "Epoch [18/20], Step [75/75], Loss: 0.0196, Accuracy: 100.00%\n",
            "Epoch [19/20], Step [75/75], Loss: 0.0354, Accuracy: 98.44%\n",
            "Epoch [20/20], Step [75/75], Loss: 0.0245, Accuracy: 100.00%\n",
            "Train time elapsed in seconds:  38.33220076560974\n",
            "Test Accuracy of the model on test images: 63.541666666666664 %\n",
            "Test time elapsed in seconds:  0.03892207145690918\n"
          ]
        }
      ],
      "source": [
        "#--------------------------------------------------\n",
        "#       Start Training & Evaluation\n",
        "#--------------------------------------------------\n",
        "bn_model = ClassifierNetworkBatchNorm(num_classes, d_out)\n",
        "train(num_epochs, learning_rate, bn_model, trainloader_small)\n",
        "test(bn_model, testloader_small)"
      ]
    },
    {
      "cell_type": "markdown",
      "id": "cf9db93f",
      "metadata": {
        "id": "cf9db93f"
      },
      "source": [
        "**Answer**:\n",
        "\n",
        "Technique 2: \n",
        "\n",
        "Accuracy on test set: \n",
        "\n",
        "Accuracy increases/decreases:"
      ]
    },
    {
      "cell_type": "markdown",
      "id": "3400e482",
      "metadata": {
        "id": "3400e482"
      },
      "source": [
        "### Technique 3"
      ]
    },
    {
      "cell_type": "code",
      "execution_count": 30,
      "id": "57f104cc",
      "metadata": {
        "id": "57f104cc",
        "colab": {
          "base_uri": "https://localhost:8080/"
        },
        "outputId": "db269a2b-291e-4ad4-ff74-85bd7d45b338"
      },
      "outputs": [
        {
          "output_type": "stream",
          "name": "stdout",
          "text": [
            "Loading images from class: 0\n"
          ]
        },
        {
          "output_type": "stream",
          "name": "stderr",
          "text": [
            "/usr/local/lib/python3.7/dist-packages/ipykernel_launcher.py:43: DeprecationWarning: `np.float` is a deprecated alias for the builtin `float`. To silence this warning, use `float` by itself. Doing this will not modify any behavior and is safe. If you specifically wanted the numpy scalar type, use `np.float64` here.\n",
            "Deprecated in NumPy 1.20; for more details and guidance: https://numpy.org/devdocs/release/1.20.0-notes.html#deprecations\n"
          ]
        },
        {
          "output_type": "stream",
          "name": "stdout",
          "text": [
            "Loading images from class: 1\n",
            "Loading images from class: 2\n",
            "Loading images from class: 3\n",
            "Loading images from class: 4\n",
            "Loading images from class: 5\n",
            "Loading images from class: 6\n",
            "Loading images from class: 7\n",
            "Loading images from class: 8\n",
            "Loading images from class: 9\n",
            "Loading images from class: 10\n",
            "Loading images from class: 11\n",
            "Loading images from class: 12\n",
            "Loading images from class: 13\n",
            "Loading images from class: 14\n",
            "Loading images from class: 15\n",
            "Augmenting data by horizontally flipping them!\n",
            "Total flipped images:  2400\n",
            "Total data before flipped images:  2400\n",
            "Total data after adding horizontally flipped images:  4800\n",
            "(64, 64)\n",
            "Finish loading 75 minibatches (batch_size=64) of training samples.\n",
            "Loading images from class: 0\n",
            "Loading images from class: 1\n",
            "Loading images from class: 2\n",
            "Loading images from class: 3\n",
            "Loading images from class: 4\n",
            "Loading images from class: 5\n",
            "Loading images from class: 6\n",
            "Loading images from class: 7\n",
            "Loading images from class: 8\n",
            "Loading images from class: 9\n",
            "Loading images from class: 10\n",
            "Loading images from class: 11\n",
            "Loading images from class: 12\n",
            "Loading images from class: 13\n",
            "Loading images from class: 14\n",
            "Loading images from class: 15\n",
            "(64, 64)\n",
            "Finish loading 6 minibatches (batch_size=64) of testing samples.\n"
          ]
        }
      ],
      "source": [
        "#--------------------------------------------------\n",
        "#    Load Training Data and Testing Data\n",
        "#--------------------------------------------------\n",
        "# load data into size (64, 64)\n",
        "img_size = (64, 64)\n",
        "batch_size = 64 # training sample number per batch\n",
        "\n",
        "# load training dataset\n",
        "trainloader_small = list(load_dataset('./data/train/', img_size, batch_size=batch_size, shuffle=True, augment=True, zero_centered=True))\n",
        "train_num = len(trainloader_small)\n",
        "print(\"Finish loading %d minibatches (batch_size=%d) of training samples.\" % (train_num, batch_size))\n",
        "\n",
        "# load testing dataset\n",
        "testloader_small = list(load_dataset('./data/test/', img_size, num_per_class=50, batch_size=batch_size, zero_centered=True))\n",
        "test_num = len(testloader_small)\n",
        "print(\"Finish loading %d minibatches (batch_size=%d) of testing samples.\" % (test_num, batch_size))"
      ]
    },
    {
      "cell_type": "code",
      "execution_count": 31,
      "id": "4f46c1eb",
      "metadata": {
        "id": "4f46c1eb"
      },
      "outputs": [],
      "source": [
        "#--------------------------------------------------\n",
        "#       Define Network Architecture\n",
        "#--------------------------------------------------\n",
        "class ConvNet(nn.Module):\n",
        "    def __init__(self):\n",
        "        super(ConvNet, self).__init__()\n",
        "        self.layer1 = nn.Sequential(\n",
        "            nn.Conv2d(1, 32, kernel_size=5, stride=1, padding=2),\n",
        "            nn.ReLU(),\n",
        "            #nn.Sigmoid()\n",
        "            nn.MaxPool2d(kernel_size=2, stride=2))\n",
        "        self.layer2 = nn.Sequential(\n",
        "            nn.Conv2d(32, 64, kernel_size=5, stride=1, padding=2),\n",
        "            nn.ReLU(),\n",
        "            #nn.Sigmoid\n",
        "            nn.MaxPool2d(kernel_size=2, stride=2))\n",
        "        self.drop_out = nn.Dropout2d()\n",
        "        self.fc1 = nn.Linear(16 * 16 * 64, 1000)\n",
        "        self.fc1_bn = nn.BatchNorm1d(16*16*64)\n",
        "        self.fc2 = nn.Linear(1000, 16)\n",
        "    \n",
        "    \n",
        "    def forward(self, x):\n",
        "        out = self.layer1(x)\n",
        "        out = self.layer2(out)\n",
        "        out = out.reshape(out.size(0), -1)\n",
        "        out = self.drop_out(out)\n",
        "        out = self.fc1_bn(out)\n",
        "        out = self.fc1(out)\n",
        "        out = self.fc2(out)\n",
        "        return out"
      ]
    },
    {
      "cell_type": "code",
      "execution_count": 32,
      "id": "61535319",
      "metadata": {
        "id": "61535319",
        "colab": {
          "base_uri": "https://localhost:8080/"
        },
        "outputId": "0a434416-ae3e-4ab2-e77a-db2d90fd069f"
      },
      "outputs": [
        {
          "output_type": "stream",
          "name": "stderr",
          "text": [
            "/usr/local/lib/python3.7/dist-packages/torch/nn/functional.py:1331: UserWarning: dropout2d: Received a 2-D input to dropout2d, which is deprecated and will result in an error in a future release. To retain the behavior and silence this warning, please use dropout instead. Note that dropout2d exists to provide channel-wise dropout on inputs with 2 spatial dimensions, a channel dimension, and an optional batch dimension (i.e. 3D or 4D inputs).\n",
            "  warnings.warn(warn_msg)\n"
          ]
        },
        {
          "output_type": "stream",
          "name": "stdout",
          "text": [
            "Epoch [1/5], Loss: 2.0233, Accuracy: 35.94%\n",
            "Epoch [2/5], Loss: 1.5910, Accuracy: 51.56%\n",
            "Epoch [3/5], Loss: 1.2371, Accuracy: 64.06%\n",
            "Epoch [4/5], Loss: 0.9108, Accuracy: 73.44%\n",
            "Epoch [5/5], Loss: 0.7969, Accuracy: 79.69%\n",
            "Test Accuracy of the model on the 1500 test images: 62.239583333333336 %\n"
          ]
        }
      ],
      "source": [
        "#--------------------------------------------------\n",
        "#       Start Training & Evaluation\n",
        "#--------------------------------------------------\n",
        "#Define some parameters of the network\n",
        "num_epochs = 5\n",
        "num_classes = 16\n",
        "batch_size = 64\n",
        "learning_rate= 0.001\n",
        "\n",
        "model = ConvNet()\n",
        "\n",
        "# Loss and optimizer\n",
        "criterion = nn.CrossEntropyLoss()\n",
        "optimizer = torch.optim.SGD(model.parameters(), lr=learning_rate, momentum = 0.9)\n",
        "#optimizer = torch.optim.Adam(model.parameters(), lr=learning_rate)\n",
        "\n",
        "#Training the network\n",
        "total_step = len(trainloader_small)\n",
        "loss_list = []\n",
        "acc_list = []\n",
        "for epoch in range(num_epochs):\n",
        "    for i, (images, labels) in enumerate(trainloader_small):\n",
        "        outputs = model(images.float())\n",
        "        loss = criterion(outputs, labels)\n",
        "        loss_list.append(loss.item())\n",
        "\n",
        "        # Backprop and perform optimisation\n",
        "        optimizer.zero_grad()\n",
        "        loss.backward()\n",
        "        optimizer.step()\n",
        "\n",
        "        # Track the accuracy\n",
        "        total = labels.size(0)\n",
        "        _, predicted = torch.max(outputs.data, 1)\n",
        "        correct = (predicted == labels).sum().item()\n",
        "        acc_list.append(correct / total)\n",
        "\n",
        "        if (i + 1) % 50 == 0:\n",
        "            print('Epoch [{}/{}], Loss: {:.4f}, Accuracy: {:.2f}%'\n",
        "                  .format(epoch + 1, num_epochs, loss.item(),\n",
        "                          (correct / total) * 100))#Define some parameters of the network\n",
        "            \n",
        "\n",
        "model.eval()\n",
        "with torch.no_grad():\n",
        "    correct = 0\n",
        "    total = 0\n",
        "    for images, labels in testloader_small:\n",
        "        outputs = model(images.float())\n",
        "        _, predicted = torch.max(outputs.data, 1)\n",
        "        total += labels.size(0)\n",
        "        correct += (predicted == labels).sum().item()\n",
        "\n",
        "    print('Test Accuracy of the model on the 1500 test images: {} %'.format((correct / total) * 100))     "
      ]
    },
    {
      "cell_type": "markdown",
      "id": "d3b54f78",
      "metadata": {
        "id": "d3b54f78"
      },
      "source": [
        "**Answer**:\n",
        "\n",
        "Technique 3: \n",
        "\n",
        "Accuracy on test set: \n",
        "\n",
        "Accuracy increases/decreases:"
      ]
    },
    {
      "cell_type": "markdown",
      "id": "090600db",
      "metadata": {
        "id": "090600db"
      },
      "source": [
        "## Submission guidelines\n",
        "---\n",
        "Extract the downloaded .zip file to a folder of your preference. The input and output paths are predefined and **DO NOT** change them, (we assume that 'Surname_Givenname_assignment2_part2' is your working directory, and all the paths are relative to this directory).  The image read and write functions are already written for you. All you need to do is to fill in the blanks as indicated to generate proper outputs. **DO NOT** zip and upload the dataset on canvas due to size limit.\n",
        "\n",
        "When submitting your .zip file through blackboard, please\n",
        "-- name your .zip file as **Surname_Givenname_assignment2_part1.zip**.\n",
        "\n",
        "This zip file should include:\n",
        "```\n",
        "Surname_Givenname_UNCCID_assignment2_part2  \n",
        "        |---Surname_Givenname_UNCCID_assignment2_part2.ipynb\n",
        "        |---Surname_Givenname_UNCCID_assignment2_part2.pdf\n",
        "```\n",
        "\n",
        "For instance, student Yann Lecun should submit a zip file named \"Lecun_Yann_111134567_assignment2_part1.zip\" for assignment2_part1 in this structure:\n",
        "```\n",
        "Lecun_Yann_111134567_assignment2_part2\n",
        "        |---Lecun_Yann_111134567_assignment2_part2.ipynb\n",
        "        |---Lecun_Yann_111134567_assignment2_part2.pdf\n",
        "```\n",
        "\n",
        "Then right click this folder, click ***Get shareable link***, in the People textfield, enter TA's emails: ***psingire@uncc.edu*** and ***kchiguru@uncc.edu***. Make sure that TAs who have the link **can edit**, ***not just*** **can view**, and also **uncheck** the **Notify people** box.\n",
        "\n",
        "Note that in google colab, we will only grade the version of the code right before the timestamp of the submission made in canvas. \n",
        "\n",
        "Extract the downloaded .zip file to a folder of your preference. The input and output paths are predefined and **DO NOT** change them, (we assume that 'Surname_Givenname_UNCCID_assignment1' is your working directory, and all the paths are relative to this directory).  The image read and write functions are already written for you. All you need to do is to fill in the blanks as indicated to generate proper outputs.\n",
        "\n",
        "\n",
        "-- DO NOT change the folder structure, please just fill in the blanks. <br>\n",
        "\n",
        "You are encouraged to post and answer questions on Canvas. Please ask questions on Canvas and send emails only for personal issues.\n",
        "\n",
        "If you alter the folder structures, the grading of your homework will be significantly delayed and possibly penalized.\n",
        "\n",
        "Be aware that your code will undergo plagiarism check both vertically and horizontally. Please do your own work.\n",
        "\n",
        "Late submission penalty: <br>\n",
        "There will be a 10% penalty per day for late submission. However, you will have THREE days throughout the whole semester to submit late without penalty. Note that the grace period is calculated by days instead of hours. If you submit the homework one minute after the deadline, one late day will be counted. Likewise, if you submit one minute after the deadline, the 10% penaly will be imposed if not using the grace period.\n"
      ]
    },
    {
      "cell_type": "code",
      "source": [],
      "metadata": {
        "id": "ECNtzCsut_ZK"
      },
      "id": "ECNtzCsut_ZK",
      "execution_count": null,
      "outputs": []
    }
  ],
  "metadata": {
    "kernelspec": {
      "display_name": "Python 3",
      "language": "python",
      "name": "python3"
    },
    "language_info": {
      "codemirror_mode": {
        "name": "ipython",
        "version": 3
      },
      "file_extension": ".py",
      "mimetype": "text/x-python",
      "name": "python",
      "nbconvert_exporter": "python",
      "pygments_lexer": "ipython3",
      "version": "3.8.8"
    },
    "colab": {
      "provenance": [],
      "collapsed_sections": [],
      "include_colab_link": true
    },
    "accelerator": "GPU",
    "gpuClass": "standard"
  },
  "nbformat": 4,
  "nbformat_minor": 5
}