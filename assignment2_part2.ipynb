{
  "cells": [
    {
      "cell_type": "markdown",
      "metadata": {
        "id": "view-in-github",
        "colab_type": "text"
      },
      "source": [
        "<a href=\"https://colab.research.google.com/github/JoshuaAby/CV-Assignment-1/blob/main/assignment2_part2.ipynb\" target=\"_parent\"><img src=\"https://colab.research.google.com/assets/colab-badge.svg\" alt=\"Open In Colab\"/></a>"
      ]
    },
    {
      "cell_type": "markdown",
      "id": "367ea638",
      "metadata": {
        "id": "367ea638"
      },
      "source": [
        "# ITCS 4152/5152 Assignment2-Part2\n",
        "**Due date: 11:59 pm EST on Oct 31, 2022 (Mon.)**\n",
        "\n",
        "---\n",
        "In this semester, we will use Google Colab for the assignments, which allows us to utilize resources that some of us might not have in their local machines such as GPUs. You will need to use your UNC Charlotte (*.uncc.edu) account for coding and Google Drive to save your results.\n",
        "\n",
        "## Google Colab Tutorial\n",
        "---\n",
        "Go to https://colab.research.google.com/notebooks/, you will see a tutorial named \"Welcome to Colaboratory\" file, where you can learn the basics of using google colab.\n",
        "\n",
        "Settings used for assignments: ***Edit -> Notebook Settings -> Runtime Type (Python 3)***.\n",
        "\n",
        "\n",
        "## Description\n",
        "---\n",
        "This project is an introduction to deep learning tools for computer vision. You will design and train deep convolutional networks for scene recognition using [PyTorch](http://pytorch.org). You can visualize the\n",
        "structure of the network with [mNeuron] (http://vision03.csail.mit.edu/cnn_art/index.html)\n",
        "\n",
        "In Problem 1 of the project you will train a deep convolutional network from scratch to recognize scenes. The starter codes gives you methods to load data and display them. You will need to define a simple network architecture and add jittering, normalization, and regularization to increase recognition accuracy to 50, 60, or perhaps 70%. Unfortunately, we only have 2,400 training examples so it doesn't seem possible to train a network from scratch which outperforms hand-crafted features\n",
        "\n",
        "\n",
        "This is an approach that represent the most common approaches to recognition problems in computer vision today -- train a deep network from scratch if you have enough data (it's not always obvious whether or not you do).\n",
        "\n",
        "There are 2 sub problems (under Problem 1) in this homework with a total of 60 points. Be sure to read **Submission Guidelines** below. They are important. For the problems requiring text descriptions, you might want to add a markdown block for that.\n",
        "\n",
        "## Dataset\n",
        "---\n",
        "Save the [dataset(click me)](https://drive.google.com/open?id=1NWC3TMsXSWN2TeoYMCjhf2N1b-WRDh-M) into your working folder in your Google Drive for this homework. <br>\n",
        "Under your root folder, there should be a folder named \"data\" (i.e. XXX/Surname_Givenname_SBUID/data) containing the images.\n",
        "**Do not upload** the data subfolder before submitting on blackboard due to size limit. There should be only one .ipynb file under your root folder Surname_Givenname_SBUID.\n",
        "\n",
        "## Some Tutorials (PyTorch)\n",
        "---\n",
        "- You will be using PyTorch for deep learning toolbox (follow the [link](http://pytorch.org) for installation).\n",
        "- For PyTorch beginners, please read this [tutorial](http://pytorch.org/tutorials/beginner/deep_learning_60min_blitz.html) before doing your homework.\n",
        "- Feel free to study more tutorials at http://pytorch.org/tutorials/.\n",
        "- Find cool visualization here at http://playground.tensorflow.org."
      ]
    },
    {
      "cell_type": "code",
      "execution_count": 1,
      "id": "163b6de2",
      "metadata": {
        "id": "163b6de2"
      },
      "outputs": [],
      "source": [
        "# import packages here\n",
        "import cv2\n",
        "import numpy as np\n",
        "import matplotlib.pyplot as plt\n",
        "import glob\n",
        "import random \n",
        "import time\n",
        "\n",
        "import torch\n",
        "import torchvision\n",
        "import torchvision.transforms as transforms\n",
        "\n",
        "from torch.autograd import Variable\n",
        "import torch.nn as nn\n",
        "import torch.nn.functional as F"
      ]
    },
    {
      "cell_type": "code",
      "execution_count": 2,
      "id": "502f4fec",
      "metadata": {
        "id": "502f4fec",
        "colab": {
          "base_uri": "https://localhost:8080/"
        },
        "outputId": "e2437b9e-d1cd-476d-cc87-b9d1df810b08"
      },
      "outputs": [
        {
          "output_type": "stream",
          "name": "stdout",
          "text": [
            "Mounted at /content/gdrive\n"
          ]
        }
      ],
      "source": [
        "# Mount your google drive where you've saved your assignment folder\n",
        "from google.colab import drive\n",
        "drive.mount('/content/gdrive')"
      ]
    },
    {
      "cell_type": "code",
      "execution_count": 3,
      "id": "b41de13c",
      "metadata": {
        "id": "b41de13c",
        "colab": {
          "base_uri": "https://localhost:8080/"
        },
        "outputId": "20714570-80b2-419e-e809-3c8b0bf61979"
      },
      "outputs": [
        {
          "output_type": "stream",
          "name": "stdout",
          "text": [
            "/content/gdrive/My Drive/Computer Vision (ITCS-5152)/assignment2-part2\n"
          ]
        }
      ],
      "source": [
        "# Replace '------' with the path such that \"ITCS_4152_5152_assignment2\" is your working directory\n",
        "%cd '/content/gdrive/My Drive/Computer Vision (ITCS-5152)/assignment2-part2'"
      ]
    },
    {
      "cell_type": "markdown",
      "id": "437b789c",
      "metadata": {
        "id": "437b789c"
      },
      "source": [
        "## Problem 0: Loading and Preprocessing data\n",
        "---\n",
        "(0 point) In this part, you are provided with a function that loads data into minibatches for training and testing in PyTorch. However, some preprocessing parts are missing. Your will need to implement them when doing Problem 1."
      ]
    },
    {
      "cell_type": "code",
      "execution_count": 4,
      "id": "1988d6ee",
      "metadata": {
        "id": "1988d6ee",
        "colab": {
          "base_uri": "https://localhost:8080/"
        },
        "outputId": "2b29f3a1-9428-4287-bf6c-2c22117ef295"
      },
      "outputs": [
        {
          "output_type": "stream",
          "name": "stdout",
          "text": [
            "class_names: {0: 'Bedroom', 1: 'Coast', 2: 'Forest', 3: 'Flower', 4: 'Highway', 5: 'Industrial', 6: 'Kitchen', 7: 'InsideCity', 8: 'Suburb', 9: 'Store', 10: 'OpenCountry', 11: 'LivingRoom', 12: 'Mountain', 13: 'Street', 14: 'TallBuilding', 15: 'Office'} \n"
          ]
        }
      ],
      "source": [
        "#--------------------------------------------------\n",
        "#    Load Training Data and Testing Data\n",
        "#--------------------------------------------------\n",
        "\n",
        "def set_random_seed(seed):\n",
        "     torch.manual_seed(seed)\n",
        "     torch.cuda.manual_seed_all(seed)\n",
        "     np.random.seed(seed)\n",
        "     random.seed(seed)\n",
        "     torch.backends.cudnn.deterministic = True\n",
        "set_random_seed(0)\n",
        "\n",
        "class_names = [name[13:] for name in glob.glob('./data/train/*')]\n",
        "class_names = dict(zip(range(len(class_names)), class_names))\n",
        "print(\"class_names: %s \" % class_names)\n",
        "\n",
        "def load_dataset(path, img_size, num_per_class=-1, batch_size=16, shuffle=False,\n",
        "           augment=False, is_color=False, rotate = 0, zero_centered=False):    \n",
        "    data = []\n",
        "    labels = []    \n",
        "    channel_num = 3 if is_color else 1\n",
        "        \n",
        "    # read images and resizing\n",
        "    for id, class_name in class_names.items():\n",
        "        print(\"Loading images from class: %s\" % id)\n",
        "        img_path_class = glob.glob(path + class_name + '/*.jpg')\n",
        "        if num_per_class > 0:\n",
        "            img_path_class = img_path_class[:num_per_class]\n",
        "        labels.extend([id]*len(img_path_class))\n",
        "        for filename in img_path_class:\n",
        "            if is_color:\n",
        "                img = cv2.imread(filename)\n",
        "            else:\n",
        "                img = cv2.imread(filename, 0)\n",
        "            \n",
        "            # resize the image\n",
        "            img = cv2.resize(img, img_size, cv2.INTER_LINEAR)\n",
        "            \n",
        "            if is_color:\n",
        "                img = np.transpose(img, [2, 0, 1])\n",
        "            \n",
        "            # norm pixel values to [-1, 1]\n",
        "            data.append(img.astype(np.float)/255*2-1)\n",
        "            \n",
        "    ##########--WRITE YOUR CODE HERE--##########\n",
        "    # Data Augmentation \n",
        "    if augment: \n",
        "      print('Augmenting data by horizontally flipping them!')\n",
        "      flipped_images = []\n",
        "      flipped_labels = []\n",
        "      for index, img in enumerate(data):\n",
        "        horizontal_flip = cv2.flip(img, 1)\n",
        "        flipped_images.append(horizontal_flip)\n",
        "        # if index == 10:\n",
        "        #   reflip = cv2.flip(horizontal_flip, 1)\n",
        "        #   print(reflip - img)\n",
        "        flipped_labels.append(labels[index])\n",
        "\n",
        "      print('Total flipped images: ', len(flipped_images))\n",
        "      print('Total data before flipped images: ', len(data))\n",
        "      data.extend(flipped_images)\n",
        "      labels.extend(flipped_labels)\n",
        "      print('Total data after adding horizontally flipped images: ', len(data))\n",
        "\n",
        "    if rotate != 0:\n",
        "      print('Augmenting data by randomly rotating them!')\n",
        "      flipped_images = []\n",
        "      flipped_labels = []\n",
        "      for index, img in enumerate(data):\n",
        "        ang_rot = np.random.uniform(rotate) - rotate / 2\n",
        "        rows, cols = img.shape\n",
        "        Rot_M = cv2.getRotationMatrix2D((cols/2,rows/2), ang_rot, 1)\n",
        "        rotated_img = cv2.warpAffine(img,Rot_M,(cols,rows))\n",
        "        flipped_images.append(rotated_img)\n",
        "        flipped_labels.append(labels[index])\n",
        "\n",
        "      print('Total rotated images: ', len(flipped_images))\n",
        "      print('Total data before rotated images: ', len(data))\n",
        "      data.extend(flipped_images)\n",
        "      labels.extend(flipped_labels)\n",
        "      print('Total data after adding rotated images: ', len(data))\n",
        "\n",
        "\n",
        "    ##########-------END OF CODE-------##########    \n",
        "    \n",
        "    ##########--WRITE YOUR CODE HERE--##########\n",
        "    # Data Normalization\n",
        "    if zero_centered:\n",
        "      mean = np.mean(data, axis=0)\n",
        "      print(mean.shape)\n",
        "      for index, img in enumerate(data):\n",
        "        data[index] = img - mean\n",
        "\n",
        "        \n",
        "    ##########-------END OF CODE-------##########\n",
        "         \n",
        "    # randomly permute (this step is important for training)\n",
        "    if shuffle:\n",
        "        bundle = list(zip(data, labels))\n",
        "        random.shuffle(bundle)\n",
        "        data, labels = zip(*bundle)\n",
        "    \n",
        "    # divide data into minibatches of TorchTensors\n",
        "    if batch_size > 1:\n",
        "        batch_data = []\n",
        "        batch_labels = []\n",
        "         \n",
        "        for i in range(int(len(data) / batch_size)):\n",
        "            minibatch_d = data[i*batch_size: (i+1)*batch_size]\n",
        "            minibatch_d = np.reshape(minibatch_d, (batch_size, channel_num, img_size[0], img_size[1]))\n",
        "            batch_data.append(torch.from_numpy(minibatch_d))\n",
        "\n",
        "            minibatch_l = labels[i*batch_size: (i+1)*batch_size]\n",
        "            batch_labels.append(torch.LongTensor(minibatch_l))\n",
        "        data, labels = batch_data, batch_labels \n",
        "    \n",
        "    return zip(batch_data, batch_labels)"
      ]
    },
    {
      "cell_type": "code",
      "execution_count": 5,
      "id": "9483a7cd",
      "metadata": {
        "id": "9483a7cd",
        "colab": {
          "base_uri": "https://localhost:8080/"
        },
        "outputId": "82f49644-795d-4047-f3a6-29db0f4aa73b"
      },
      "outputs": [
        {
          "output_type": "stream",
          "name": "stdout",
          "text": [
            "Loading images from class: 0\n"
          ]
        },
        {
          "output_type": "stream",
          "name": "stderr",
          "text": [
            "/usr/local/lib/python3.7/dist-packages/ipykernel_launcher.py:43: DeprecationWarning: `np.float` is a deprecated alias for the builtin `float`. To silence this warning, use `float` by itself. Doing this will not modify any behavior and is safe. If you specifically wanted the numpy scalar type, use `np.float64` here.\n",
            "Deprecated in NumPy 1.20; for more details and guidance: https://numpy.org/devdocs/release/1.20.0-notes.html#deprecations\n"
          ]
        },
        {
          "output_type": "stream",
          "name": "stdout",
          "text": [
            "Loading images from class: 1\n",
            "Loading images from class: 2\n",
            "Loading images from class: 3\n",
            "Loading images from class: 4\n",
            "Loading images from class: 5\n",
            "Loading images from class: 6\n",
            "Loading images from class: 7\n",
            "Loading images from class: 8\n",
            "Loading images from class: 9\n",
            "Loading images from class: 10\n",
            "Loading images from class: 11\n",
            "Loading images from class: 12\n",
            "Loading images from class: 13\n",
            "Loading images from class: 14\n",
            "Loading images from class: 15\n",
            "Finish loading 37 minibatches (batch_size=64) of training samples.\n",
            "Loading images from class: 0\n",
            "Loading images from class: 1\n",
            "Loading images from class: 2\n",
            "Loading images from class: 3\n",
            "Loading images from class: 4\n",
            "Loading images from class: 5\n",
            "Loading images from class: 6\n",
            "Loading images from class: 7\n",
            "Loading images from class: 8\n",
            "Loading images from class: 9\n",
            "Loading images from class: 10\n",
            "Loading images from class: 11\n",
            "Loading images from class: 12\n",
            "Loading images from class: 13\n",
            "Loading images from class: 14\n",
            "Loading images from class: 15\n",
            "Finish loading 6 minibatches (batch_size=64) of testing samples.\n"
          ]
        }
      ],
      "source": [
        "# load data into size (64, 64)\n",
        "img_size = (64, 64)\n",
        "batch_size = 64 # training sample number per batch\n",
        "\n",
        "# load training dataset\n",
        "trainloader_small = list(load_dataset('./data/train/', img_size, batch_size=batch_size, shuffle=True))\n",
        "train_num = len(trainloader_small)\n",
        "print(\"Finish loading %d minibatches (batch_size=%d) of training samples.\" % (train_num, batch_size))\n",
        "\n",
        "# load testing dataset\n",
        "testloader_small = list(load_dataset('./data/test/', img_size, num_per_class=50, batch_size=batch_size))\n",
        "test_num = len(testloader_small)\n",
        "print(\"Finish loading %d minibatches (batch_size=%d) of testing samples.\" % (test_num, batch_size))"
      ]
    },
    {
      "cell_type": "code",
      "execution_count": 6,
      "id": "6add360c",
      "metadata": {
        "id": "6add360c",
        "colab": {
          "base_uri": "https://localhost:8080/",
          "height": 285
        },
        "outputId": "d0a37f40-e573-4fcd-b9b5-08b87415db30"
      },
      "outputs": [
        {
          "output_type": "stream",
          "name": "stdout",
          "text": [
            "Office\n"
          ]
        },
        {
          "output_type": "display_data",
          "data": {
            "text/plain": [
              "<Figure size 432x288 with 1 Axes>"
            ],
            "image/png": "[encoded data removed]"
          },
          "metadata": {
            "needs_background": "light"
          }
        }
      ],
      "source": [
        "# show some images\n",
        "def imshow(img):\n",
        "    img = img / 2 + 0.5     # unnormalize\n",
        "    npimg = img.numpy()\n",
        "    if len(npimg.shape) > 2:\n",
        "        npimg = np.transpose(img, [1, 2, 0])\n",
        "    plt.figure\n",
        "    plt.imshow(npimg, 'gray')\n",
        "    plt.show()\n",
        "img, label = trainloader_small[0][0][11][0], trainloader_small[0][1][11]\n",
        "label = int(np.array(label))\n",
        "print(class_names[label])\n",
        "imshow(img)"
      ]
    },
    {
      "cell_type": "markdown",
      "id": "d906be39",
      "metadata": {
        "id": "d906be39"
      },
      "source": [
        "## Problem 1: Training a Network From Scratch\n",
        "Gone are the days of hand designed features. Now we have end-to-end learning in which a highly non-linear representation is learned for our data to maximize our objective function (in this case, 16-way classification accuracy). Let's start!"
      ]
    },
    {
      "cell_type": "markdown",
      "id": "d3d758ff",
      "metadata": {
        "id": "d3d758ff"
      },
      "source": [
        "First, let's define a simpe network architecture."
      ]
    },
    {
      "cell_type": "code",
      "execution_count": 7,
      "id": "67208818",
      "metadata": {
        "id": "67208818"
      },
      "outputs": [],
      "source": [
        "#--------------------------------------------------\n",
        "#       Define Network Architecture\n",
        "#--------------------------------------------------\n",
        "class TNet(nn.Module):\n",
        "    def __init__(self):\n",
        "      super(TNet,self).__init__()  \n",
        "           \n",
        "      self.features = torch.nn.Sequential(\n",
        "        nn.Conv2d(1, 16, 3),\n",
        "        nn.ReLU(),\n",
        "        nn.MaxPool2d(4, stride=4), \n",
        "      )\n",
        "      \n",
        "      self.classifier = nn.Sequential(\n",
        "         nn.Linear(3600, 16), \n",
        "      )\n",
        "      \n",
        "    def forward(self, x):\n",
        "      x = self.features(x)  \n",
        "      x = torch.flatten(x, 1)\n",
        "      x = self.classifier(x)\n",
        "      return x  "
      ]
    },
    {
      "cell_type": "markdown",
      "id": "249c193d",
      "metadata": {
        "id": "249c193d"
      },
      "source": [
        "Then, let's define model training and evaluation functions."
      ]
    },
    {
      "cell_type": "code",
      "execution_count": 8,
      "id": "e1ba6e02",
      "metadata": {
        "id": "e1ba6e02"
      },
      "outputs": [],
      "source": [
        "#--------------------------------------------------\n",
        "#       Model Training Function\n",
        "#--------------------------------------------------\n",
        "import torch.optim as optim\n",
        "import time\n",
        "  \n",
        "def trainModel(net, trainloader, train_option, testloader=None):  \n",
        "  loss_func = nn.CrossEntropyLoss()\n",
        "  lr = train_option['lr']\n",
        "  epoch = train_option['epoch']\n",
        "  device = train_option['device'] if 'device' in train_option.keys() else 'cpu'\n",
        "  log_iter = train_option['log_iter'] if 'log_iter' in train_option.keys() else 20\n",
        "  eval_epoch = 1\n",
        "  \n",
        "  if 'optimizer' in train_option.keys():\n",
        "    optimizer = train_option['optimizer']\n",
        "  else:\n",
        "    optimizer = optim.Adam(net.parameters(), lr=lr)\n",
        "\n",
        "  start_time = time.time()\n",
        "  if device == 'gpu':\n",
        "    net = net.cuda()\n",
        "    \n",
        "  iters = 0\n",
        "  running_loss = 0.0\n",
        "  for ep in range(epoch):\n",
        "    net.train()        \n",
        "    for iter, (x, y) in enumerate(trainloader):\n",
        "      iters += 1\n",
        "      batch_x = Variable(x).float()\n",
        "      batch_y = Variable(y).long()\n",
        "      if device == 'gpu':\n",
        "        batch_x = batch_x.cuda()\n",
        "        batch_y = batch_y.cuda()\n",
        "\n",
        "      outputs = net(batch_x)\n",
        "      loss = loss_func(outputs, batch_y)\n",
        "      optimizer.zero_grad()\n",
        "      loss.backward()\n",
        "      optimizer.step()\n",
        "      running_loss += loss.item()\n",
        "      \n",
        "      time_lapse = time.strftime('%H:%M:%S', time.gmtime(time.time() - start_time))\n",
        "      if iter % log_iter == 0:\n",
        "        print('Epoch:{:2d} | Iter:{:5d} | Time: {} | Train Loss: {:.4f} | Average Loss: {:.4f} '.format(ep+1, iter, time_lapse, loss.item(), running_loss/iters))\n",
        "   \n",
        "    if testloader is not None and ep % eval_epoch == 0:\n",
        "      evalModel(net, testloader)\n"
      ]
    },
    {
      "cell_type": "code",
      "execution_count": 9,
      "id": "cecead0a",
      "metadata": {
        "id": "cecead0a"
      },
      "outputs": [],
      "source": [
        "#--------------------------------------------------\n",
        "#       Model Evaluating Function\n",
        "#--------------------------------------------------\n",
        "import time\n",
        "  \n",
        "def evalModel(net, testloader): \n",
        "  acc = 0.0\n",
        "  count = 0\n",
        "  start_time = time.time()\n",
        "  device = 'gpu' if next(net.parameters()).is_cuda else 'cpu'\n",
        "  net.eval()\n",
        "  \n",
        "  for iter, (x, y) in enumerate(testloader):\n",
        "        count += x.shape[0]\n",
        "        batch_x = Variable(x).float()\n",
        "        batch_y = Variable(y).long()\n",
        "        if device == 'gpu':\n",
        "          batch_x = batch_x.cuda()\n",
        "          batch_y = batch_y.cuda()\n",
        "        outputs = net(batch_x)\n",
        "        acc += torch.sum(outputs.max(1)[1]==batch_y)\n",
        "        \n",
        "  time_lapse = time.strftime('%H:%M:%S', time.gmtime(time.time() - start_time))        \n",
        "  print('Accuracy: {:5f} | Time: {}'.format(acc/count,time_lapse))\n",
        "  "
      ]
    },
    {
      "cell_type": "markdown",
      "id": "3735abd3",
      "metadata": {
        "id": "3735abd3"
      },
      "source": [
        "Finally, let's start training and evaluation."
      ]
    },
    {
      "cell_type": "code",
      "execution_count": 10,
      "id": "2086fbf1",
      "metadata": {
        "id": "2086fbf1",
        "colab": {
          "base_uri": "https://localhost:8080/"
        },
        "outputId": "803d3abf-611e-4859-bae6-736f29cd4c0d"
      },
      "outputs": [
        {
          "output_type": "stream",
          "name": "stdout",
          "text": [
            "Epoch: 1 | Iter:    0 | Time: 00:00:10 | Train Loss: 2.7722 | Average Loss: 2.7722 \n",
            "Epoch: 1 | Iter:   20 | Time: 00:00:10 | Train Loss: 2.3902 | Average Loss: 2.6294 \n",
            "Accuracy: 0.398438 | Time: 00:00:00\n",
            "Epoch: 2 | Iter:    0 | Time: 00:00:10 | Train Loss: 1.7068 | Average Loss: 2.4440 \n",
            "Epoch: 2 | Iter:   20 | Time: 00:00:11 | Train Loss: 1.7174 | Average Loss: 2.2238 \n",
            "Accuracy: 0.424479 | Time: 00:00:00\n",
            "Epoch: 3 | Iter:    0 | Time: 00:00:11 | Train Loss: 1.3254 | Average Loss: 2.1099 \n",
            "Epoch: 3 | Iter:   20 | Time: 00:00:11 | Train Loss: 1.2831 | Average Loss: 1.9631 \n",
            "Accuracy: 0.455729 | Time: 00:00:00\n",
            "Epoch: 4 | Iter:    0 | Time: 00:00:11 | Train Loss: 1.0617 | Average Loss: 1.8759 \n",
            "Epoch: 4 | Iter:   20 | Time: 00:00:11 | Train Loss: 1.0130 | Average Loss: 1.7647 \n",
            "Accuracy: 0.479167 | Time: 00:00:00\n",
            "Epoch: 5 | Iter:    0 | Time: 00:00:11 | Train Loss: 0.8626 | Average Loss: 1.6911 \n",
            "Epoch: 5 | Iter:   20 | Time: 00:00:11 | Train Loss: 0.8192 | Average Loss: 1.6009 \n",
            "Accuracy: 0.473958 | Time: 00:00:00\n",
            "Epoch: 6 | Iter:    0 | Time: 00:00:11 | Train Loss: 0.7136 | Average Loss: 1.5376 \n",
            "Epoch: 6 | Iter:   20 | Time: 00:00:11 | Train Loss: 0.6648 | Average Loss: 1.4621 \n",
            "Accuracy: 0.463542 | Time: 00:00:00\n",
            "Epoch: 7 | Iter:    0 | Time: 00:00:11 | Train Loss: 0.5973 | Average Loss: 1.4073 \n",
            "Epoch: 7 | Iter:   20 | Time: 00:00:11 | Train Loss: 0.5375 | Average Loss: 1.3432 \n",
            "Accuracy: 0.479167 | Time: 00:00:00\n",
            "Epoch: 8 | Iter:    0 | Time: 00:00:11 | Train Loss: 0.5051 | Average Loss: 1.2958 \n",
            "Epoch: 8 | Iter:   20 | Time: 00:00:11 | Train Loss: 0.4440 | Average Loss: 1.2407 \n",
            "Accuracy: 0.486979 | Time: 00:00:00\n",
            "Epoch: 9 | Iter:    0 | Time: 00:00:11 | Train Loss: 0.4350 | Average Loss: 1.1996 \n",
            "Epoch: 9 | Iter:   20 | Time: 00:00:11 | Train Loss: 0.3699 | Average Loss: 1.1517 \n",
            "Accuracy: 0.492188 | Time: 00:00:00\n",
            "Epoch:10 | Iter:    0 | Time: 00:00:11 | Train Loss: 0.4100 | Average Loss: 1.1164 \n",
            "Epoch:10 | Iter:   20 | Time: 00:00:12 | Train Loss: 0.3077 | Average Loss: 1.0750 \n",
            "Accuracy: 0.484375 | Time: 00:00:00\n",
            "Epoch:11 | Iter:    0 | Time: 00:00:12 | Train Loss: 0.5282 | Average Loss: 1.0454 \n",
            "Epoch:11 | Iter:   20 | Time: 00:00:12 | Train Loss: 0.4151 | Average Loss: 1.0112 \n",
            "Accuracy: 0.505208 | Time: 00:00:00\n",
            "Epoch:12 | Iter:    0 | Time: 00:00:12 | Train Loss: 0.3167 | Average Loss: 0.9849 \n",
            "Epoch:12 | Iter:   20 | Time: 00:00:12 | Train Loss: 0.2355 | Average Loss: 0.9568 \n",
            "Accuracy: 0.497396 | Time: 00:00:00\n",
            "Epoch:13 | Iter:    0 | Time: 00:00:12 | Train Loss: 0.2696 | Average Loss: 0.9329 \n",
            "Epoch:13 | Iter:   20 | Time: 00:00:12 | Train Loss: 0.2507 | Average Loss: 0.9057 \n",
            "Accuracy: 0.481771 | Time: 00:00:00\n",
            "Epoch:14 | Iter:    0 | Time: 00:00:12 | Train Loss: 0.3152 | Average Loss: 0.8843 \n",
            "Epoch:14 | Iter:   20 | Time: 00:00:12 | Train Loss: 0.3410 | Average Loss: 0.8613 \n",
            "Accuracy: 0.427083 | Time: 00:00:00\n",
            "Epoch:15 | Iter:    0 | Time: 00:00:12 | Train Loss: 0.3300 | Average Loss: 0.8419 \n",
            "Epoch:15 | Iter:   20 | Time: 00:00:12 | Train Loss: 0.2518 | Average Loss: 0.8209 \n",
            "Accuracy: 0.468750 | Time: 00:00:00\n",
            "Epoch:16 | Iter:    0 | Time: 00:00:12 | Train Loss: 0.1940 | Average Loss: 0.8045 \n",
            "Epoch:16 | Iter:   20 | Time: 00:00:12 | Train Loss: 0.2466 | Average Loss: 0.7864 \n",
            "Accuracy: 0.479167 | Time: 00:00:00\n",
            "Epoch:17 | Iter:    0 | Time: 00:00:12 | Train Loss: 0.1787 | Average Loss: 0.7716 \n",
            "Epoch:17 | Iter:   20 | Time: 00:00:12 | Train Loss: 0.2658 | Average Loss: 0.7552 \n",
            "Accuracy: 0.473958 | Time: 00:00:00\n",
            "Epoch:18 | Iter:    0 | Time: 00:00:12 | Train Loss: 0.1508 | Average Loss: 0.7414 \n",
            "Epoch:18 | Iter:   20 | Time: 00:00:12 | Train Loss: 0.2107 | Average Loss: 0.7265 \n",
            "Accuracy: 0.460938 | Time: 00:00:00\n",
            "Epoch:19 | Iter:    0 | Time: 00:00:12 | Train Loss: 0.2338 | Average Loss: 0.7146 \n",
            "Epoch:19 | Iter:   20 | Time: 00:00:13 | Train Loss: 0.1985 | Average Loss: 0.7017 \n",
            "Accuracy: 0.445312 | Time: 00:00:00\n",
            "Epoch:20 | Iter:    0 | Time: 00:00:13 | Train Loss: 0.3197 | Average Loss: 0.6914 \n",
            "Epoch:20 | Iter:   20 | Time: 00:00:13 | Train Loss: 0.3361 | Average Loss: 0.6798 \n",
            "Accuracy: 0.476562 | Time: 00:00:00\n"
          ]
        }
      ],
      "source": [
        "#--------------------------------------------------\n",
        "#       Start Training & Evaluation\n",
        "#--------------------------------------------------\n",
        "net = TNet() \n",
        "train_option = {}\n",
        "train_option['lr'] = 0.002\n",
        "train_option['epoch'] = 20\n",
        "train_option['device'] = 'gpu'\n",
        "trainModel(net, trainloader_small, train_option, testloader_small)"
      ]
    },
    {
      "cell_type": "markdown",
      "id": "74f5cd7b",
      "metadata": {
        "id": "74f5cd7b"
      },
      "source": [
        "Great! You would get around 0.45-0.50 accuracy by this very simple network. Now it's your job to beat this result.\n",
        "\n",
        "### Problem 1.1\n",
        "(30 points) Try to boost the accuracy by doing the following steps:\n",
        "\n",
        "**Data Augmentation**: We don't have enough training data, let's augment the training data.\n",
        "If you **left-right flip (mirror) an image** of a scene, it never changes categories. A kitchen doesn't become a forest when mirrored. This isn't true in all domains — a \"d\" becomes a \"b\" when mirrored, so you can't \"jitter\" digit recognition training data in the same way. But we can synthetically increase our amount of training data by left-right mirroring training images during the learning process.\n",
        "\n",
        "After you implement mirroring, you should notice that your training error doesn't drop as quickly. That's actually a good thing, because it means the network isn't overfitting to the 2,400 original training images as much (because it sees 4,800 training images now, although they're not as good as 4,800 truly independent samples). Because the training and test errors fall more slowly, you may need more training epochs or you may try modifying the learning rate. You are **required** to implement mirroring as data augmentation for this part.\n",
        "\n",
        "You can try more elaborate forms of jittering -- zooming in a random amount, rotating a random amount, taking a random crop, etc. These are not required, you might want to try these in the bonus part.\n",
        "\n",
        "**Data Normalization**: The images aren't **zero-centered**. One simple trick which can help a lot is to subtract the mean from every image. It would arguably be more proper to only compute the mean from the training images (since the test/validation images should be strictly held out) but it won't make much of a difference. This part is **required**.\n",
        "\n",
        "**Network Regularization**: Add **dropout layer**. If you train your network (especially for more than the default 30 epochs) you'll see that the training error can decrease to zero while the val top1 error hovers at 40% to 50%. The network has learned weights which can perfectly recognize the training data, but those weights don't generalize to held out test data. The best regularization would be more training data but we don't have that. Instead we will use dropout regularization.\n",
        "\n",
        "What does dropout regularization do? It randomly turns off network connections at training time to fight overfitting. This prevents a unit in one layer from relying too strongly on a single unit in the previous layer. Dropout regularization can be interpreted as simultaneously training many \"thinned\" versions of your network. At test, all connections are restored which is analogous to taking an average prediction over all of the \"thinned\" networks. You can see a more complete discussion of dropout regularization in this [paper](https://www.cs.toronto.edu/~hinton/absps/JMLRdropout.pdf).\n",
        "\n",
        "The dropout layer has only one free parameter — the dropout rate — the proportion of connections that are randomly deleted. The default of 0.5 should be fine. Insert a dropout layer between your convolutional layers. In particular, insert it directly before your last convolutional layer (and try others if that helps). Your train accuracy should decrease much more slowly. That's to be expected — you're making life much harder for the training algorithm by cutting out connections randomly. In this part, you are **required** to add dropout layer to your network.\n",
        "\n",
        "**Please give detailed descriptions of your network layout in the following format:**<br>\n",
        "Data augmentation: [descriptions]<br>\n",
        "Data normalization: [descriptions]<br>\n",
        "Layer 1: [layer_type]: [Parameters]<br>\n",
        "Layer 2: [layer_type]: [Parameters]<br>\n",
        "...<br>\n",
        "**Then report the final accuracy on test set.**\n",
        "\n",
        "The minimum accuracy required for this section is **0.55**."
      ]
    },
    {
      "cell_type": "code",
      "execution_count": 11,
      "id": "4b906bbf",
      "metadata": {
        "id": "4b906bbf",
        "colab": {
          "base_uri": "https://localhost:8080/"
        },
        "outputId": "4985ba2e-6a8a-4f7b-a697-bc56389e19e2"
      },
      "outputs": [
        {
          "output_type": "stream",
          "name": "stdout",
          "text": [
            "Loading images from class: 0\n"
          ]
        },
        {
          "output_type": "stream",
          "name": "stderr",
          "text": [
            "/usr/local/lib/python3.7/dist-packages/ipykernel_launcher.py:43: DeprecationWarning: `np.float` is a deprecated alias for the builtin `float`. To silence this warning, use `float` by itself. Doing this will not modify any behavior and is safe. If you specifically wanted the numpy scalar type, use `np.float64` here.\n",
            "Deprecated in NumPy 1.20; for more details and guidance: https://numpy.org/devdocs/release/1.20.0-notes.html#deprecations\n"
          ]
        },
        {
          "output_type": "stream",
          "name": "stdout",
          "text": [
            "Loading images from class: 1\n",
            "Loading images from class: 2\n",
            "Loading images from class: 3\n",
            "Loading images from class: 4\n",
            "Loading images from class: 5\n",
            "Loading images from class: 6\n",
            "Loading images from class: 7\n",
            "Loading images from class: 8\n",
            "Loading images from class: 9\n",
            "Loading images from class: 10\n",
            "Loading images from class: 11\n",
            "Loading images from class: 12\n",
            "Loading images from class: 13\n",
            "Loading images from class: 14\n",
            "Loading images from class: 15\n",
            "Augmenting data by horizontally flipping them!\n",
            "Total flipped images:  2400\n",
            "Total data before flipped images:  2400\n",
            "Total data after adding horizontally flipped images:  4800\n",
            "(64, 64)\n",
            "Finish loading 75 minibatches (batch_size=64) of training samples.\n",
            "Loading images from class: 0\n",
            "Loading images from class: 1\n",
            "Loading images from class: 2\n",
            "Loading images from class: 3\n",
            "Loading images from class: 4\n",
            "Loading images from class: 5\n",
            "Loading images from class: 6\n",
            "Loading images from class: 7\n",
            "Loading images from class: 8\n",
            "Loading images from class: 9\n",
            "Loading images from class: 10\n",
            "Loading images from class: 11\n",
            "Loading images from class: 12\n",
            "Loading images from class: 13\n",
            "Loading images from class: 14\n",
            "Loading images from class: 15\n",
            "(64, 64)\n",
            "Finish loading 6 minibatches (batch_size=64) of testing samples.\n"
          ]
        }
      ],
      "source": [
        "# load data into size (64, 64)\n",
        "img_size = (64, 64)\n",
        "batch_size = 64 # training sample number per batch\n",
        "\n",
        "# load training dataset\n",
        "trainloader_small = list(load_dataset('./data/train/', img_size, batch_size=batch_size, shuffle=True, augment=True, zero_centered=True))\n",
        "train_num = len(trainloader_small)\n",
        "print(\"Finish loading %d minibatches (batch_size=%d) of training samples.\" % (train_num, batch_size))\n",
        "\n",
        "# load testing dataset\n",
        "testloader_small = list(load_dataset('./data/test/', img_size, num_per_class=50, batch_size=batch_size, zero_centered=True))\n",
        "test_num = len(testloader_small)\n",
        "print(\"Finish loading %d minibatches (batch_size=%d) of testing samples.\" % (test_num, batch_size))"
      ]
    },
    {
      "cell_type": "code",
      "execution_count": 21,
      "id": "c2550ad0",
      "metadata": {
        "id": "c2550ad0"
      },
      "outputs": [],
      "source": [
        "#--------------------------------------------------\n",
        "#       Define Network Architecture\n",
        "#--------------------------------------------------\n",
        "class MyClassifier(nn.Module):\n",
        "  def __init__(self,dropout):\n",
        "    super(MyClassifier,self).__init__()\n",
        "\n",
        "    #Layer 1\n",
        "    self.convolution1 = nn.Conv2d(1, 32, kernel_size=3, stride=1, padding=1)\n",
        "    self.relu1 = nn.ReLU()\n",
        "    \n",
        "    #Layer 2\n",
        "    self.convolution2 = nn.Conv2d(32, 64, kernel_size=3, stride=1, padding=1)\n",
        "    self.relu2 = nn.ReLU()\n",
        "    self.pool1 = torch.nn.MaxPool2d(kernel_size=2, stride=2, padding=0)\n",
        "    \n",
        "    #Layer 3\n",
        "    self.convolution3 = nn.Conv2d(64, 16, kernel_size=3, stride=1, padding=1)\n",
        "    self.relu3 = nn.ReLU()\n",
        "    self.pool2 = torch.nn.MaxPool2d(kernel_size=2, stride=2, padding=0)\n",
        "    self.droupout = nn.Dropout(dropout)\n",
        "\n",
        "\n",
        "    self.fully_connected_layer1 = nn.Linear(16 * 16 * 16, 64)\n",
        "    self.fully_connected_layer2 = nn.Linear(64, 32)\n",
        "    self.fully_connected_layer3 = nn.Linear(32, 16)\n",
        "    self.fully_connected_layer4 = nn.Linear(32, 16)\n",
        "\n",
        "  def forward(self, x):\n",
        "\n",
        "    y = self.convolution1(x)\n",
        "    y = self.relu1(y)\n",
        "\n",
        "    y = self.convolution2(y)\n",
        "    y = self.relu2(y)\n",
        "    y = self.pool1(y)\n",
        "\n",
        "    y = self.convolution3(y)\n",
        "    y = self.relu3(y)\n",
        "    y = self.pool2(y)\n",
        "    y = self.droupout(y)\n",
        "\n",
        "    y = y.view(y.size(0), -1)\n",
        "    \n",
        "    y = self.fully_connected_layer1(y)\n",
        "    y = self.fully_connected_layer2(y)\n",
        "    y = self.fully_connected_layer3(y)\n",
        "    return y "
      ]
    },
    {
      "cell_type": "code",
      "execution_count": 22,
      "id": "73d13a2e",
      "metadata": {
        "id": "73d13a2e",
        "colab": {
          "base_uri": "https://localhost:8080/"
        },
        "outputId": "f26d8d4c-0e8a-48ab-8faf-822e18c7f1ab"
      },
      "outputs": [
        {
          "output_type": "stream",
          "name": "stdout",
          "text": [
            "Epoch: 1 | Iter:    0 | Time: 00:00:00 | Train Loss: 2.7624 | Average Loss: 2.7624 \n",
            "Epoch: 1 | Iter:   20 | Time: 00:00:00 | Train Loss: 2.6983 | Average Loss: 2.7519 \n",
            "Epoch: 1 | Iter:   40 | Time: 00:00:00 | Train Loss: 2.2280 | Average Loss: 2.6076 \n",
            "Epoch: 1 | Iter:   60 | Time: 00:00:01 | Train Loss: 2.1078 | Average Loss: 2.4572 \n",
            "Accuracy: 0.390625 | Time: 00:00:00\n",
            "Epoch: 2 | Iter:    0 | Time: 00:00:01 | Train Loss: 2.1398 | Average Loss: 2.3723 \n",
            "Epoch: 2 | Iter:   20 | Time: 00:00:02 | Train Loss: 1.9626 | Average Loss: 2.2750 \n",
            "Epoch: 2 | Iter:   40 | Time: 00:00:02 | Train Loss: 1.5974 | Average Loss: 2.1910 \n",
            "Epoch: 2 | Iter:   60 | Time: 00:00:03 | Train Loss: 1.4970 | Average Loss: 2.1142 \n",
            "Accuracy: 0.361979 | Time: 00:00:00\n",
            "Epoch: 3 | Iter:    0 | Time: 00:00:03 | Train Loss: 1.5250 | Average Loss: 2.0657 \n",
            "Epoch: 3 | Iter:   20 | Time: 00:00:03 | Train Loss: 1.8054 | Average Loss: 2.0075 \n",
            "Epoch: 3 | Iter:   40 | Time: 00:00:04 | Train Loss: 1.4351 | Average Loss: 1.9577 \n",
            "Epoch: 3 | Iter:   60 | Time: 00:00:04 | Train Loss: 1.3233 | Average Loss: 1.9006 \n",
            "Accuracy: 0.458333 | Time: 00:00:00\n",
            "Epoch: 4 | Iter:    0 | Time: 00:00:05 | Train Loss: 1.1540 | Average Loss: 1.8615 \n",
            "Epoch: 4 | Iter:   20 | Time: 00:00:05 | Train Loss: 1.2076 | Average Loss: 1.8176 \n",
            "Epoch: 4 | Iter:   40 | Time: 00:00:05 | Train Loss: 1.1028 | Average Loss: 1.7790 \n",
            "Epoch: 4 | Iter:   60 | Time: 00:00:06 | Train Loss: 1.2683 | Average Loss: 1.7374 \n",
            "Accuracy: 0.549479 | Time: 00:00:00\n",
            "Epoch: 5 | Iter:    0 | Time: 00:00:06 | Train Loss: 1.1527 | Average Loss: 1.7103 \n",
            "Epoch: 5 | Iter:   20 | Time: 00:00:07 | Train Loss: 1.3217 | Average Loss: 1.6810 \n",
            "Epoch: 5 | Iter:   40 | Time: 00:00:07 | Train Loss: 1.0255 | Average Loss: 1.6502 \n",
            "Epoch: 5 | Iter:   60 | Time: 00:00:07 | Train Loss: 1.1752 | Average Loss: 1.6164 \n",
            "Accuracy: 0.557292 | Time: 00:00:00\n",
            "Epoch: 6 | Iter:    0 | Time: 00:00:08 | Train Loss: 0.9771 | Average Loss: 1.5934 \n",
            "Epoch: 6 | Iter:   20 | Time: 00:00:08 | Train Loss: 1.0601 | Average Loss: 1.5684 \n",
            "Epoch: 6 | Iter:   40 | Time: 00:00:09 | Train Loss: 0.8652 | Average Loss: 1.5418 \n",
            "Epoch: 6 | Iter:   60 | Time: 00:00:09 | Train Loss: 1.0439 | Average Loss: 1.5153 \n",
            "Accuracy: 0.578125 | Time: 00:00:00\n",
            "Epoch: 7 | Iter:    0 | Time: 00:00:09 | Train Loss: 0.8649 | Average Loss: 1.4970 \n",
            "Epoch: 7 | Iter:   20 | Time: 00:00:10 | Train Loss: 0.9514 | Average Loss: 1.4759 \n",
            "Epoch: 7 | Iter:   40 | Time: 00:00:10 | Train Loss: 0.6864 | Average Loss: 1.4532 \n",
            "Epoch: 7 | Iter:   60 | Time: 00:00:11 | Train Loss: 1.0811 | Average Loss: 1.4310 \n",
            "Accuracy: 0.606771 | Time: 00:00:00\n",
            "Epoch: 8 | Iter:    0 | Time: 00:00:11 | Train Loss: 0.8557 | Average Loss: 1.4159 \n",
            "Epoch: 8 | Iter:   20 | Time: 00:00:11 | Train Loss: 1.0163 | Average Loss: 1.3982 \n",
            "Epoch: 8 | Iter:   40 | Time: 00:00:12 | Train Loss: 0.7515 | Average Loss: 1.3795 \n",
            "Epoch: 8 | Iter:   60 | Time: 00:00:12 | Train Loss: 0.8350 | Average Loss: 1.3590 \n",
            "Accuracy: 0.614583 | Time: 00:00:00\n",
            "Epoch: 9 | Iter:    0 | Time: 00:00:13 | Train Loss: 0.7330 | Average Loss: 1.3470 \n",
            "Epoch: 9 | Iter:   20 | Time: 00:00:13 | Train Loss: 0.8441 | Average Loss: 1.3299 \n",
            "Epoch: 9 | Iter:   40 | Time: 00:00:14 | Train Loss: 0.7404 | Average Loss: 1.3136 \n",
            "Epoch: 9 | Iter:   60 | Time: 00:00:14 | Train Loss: 0.8619 | Average Loss: 1.2973 \n",
            "Accuracy: 0.609375 | Time: 00:00:00\n",
            "Epoch:10 | Iter:    0 | Time: 00:00:14 | Train Loss: 1.0057 | Average Loss: 1.2860 \n",
            "Epoch:10 | Iter:   20 | Time: 00:00:15 | Train Loss: 0.7909 | Average Loss: 1.2713 \n",
            "Epoch:10 | Iter:   40 | Time: 00:00:15 | Train Loss: 0.7346 | Average Loss: 1.2572 \n",
            "Epoch:10 | Iter:   60 | Time: 00:00:16 | Train Loss: 0.6616 | Average Loss: 1.2415 \n",
            "Accuracy: 0.640625 | Time: 00:00:00\n",
            "Epoch:11 | Iter:    0 | Time: 00:00:16 | Train Loss: 0.5748 | Average Loss: 1.2307 \n",
            "Epoch:11 | Iter:   20 | Time: 00:00:16 | Train Loss: 0.7352 | Average Loss: 1.2175 \n",
            "Epoch:11 | Iter:   40 | Time: 00:00:17 | Train Loss: 0.6222 | Average Loss: 1.2047 \n",
            "Epoch:11 | Iter:   60 | Time: 00:00:17 | Train Loss: 0.6302 | Average Loss: 1.1903 \n",
            "Accuracy: 0.611979 | Time: 00:00:00\n",
            "Epoch:12 | Iter:    0 | Time: 00:00:18 | Train Loss: 0.7266 | Average Loss: 1.1808 \n",
            "Epoch:12 | Iter:   20 | Time: 00:00:18 | Train Loss: 0.7763 | Average Loss: 1.1687 \n",
            "Epoch:12 | Iter:   40 | Time: 00:00:19 | Train Loss: 0.5243 | Average Loss: 1.1570 \n",
            "Epoch:12 | Iter:   60 | Time: 00:00:19 | Train Loss: 0.4435 | Average Loss: 1.1447 \n",
            "Accuracy: 0.640625 | Time: 00:00:00\n",
            "Epoch:13 | Iter:    0 | Time: 00:00:19 | Train Loss: 0.7719 | Average Loss: 1.1370 \n",
            "Epoch:13 | Iter:   20 | Time: 00:00:20 | Train Loss: 0.8636 | Average Loss: 1.1272 \n",
            "Epoch:13 | Iter:   40 | Time: 00:00:20 | Train Loss: 0.5810 | Average Loss: 1.1168 \n",
            "Epoch:13 | Iter:   60 | Time: 00:00:21 | Train Loss: 0.6938 | Average Loss: 1.1069 \n",
            "Accuracy: 0.614583 | Time: 00:00:00\n",
            "Epoch:14 | Iter:    0 | Time: 00:00:21 | Train Loss: 0.7174 | Average Loss: 1.1003 \n",
            "Epoch:14 | Iter:   20 | Time: 00:00:21 | Train Loss: 0.6602 | Average Loss: 1.0913 \n",
            "Epoch:14 | Iter:   40 | Time: 00:00:22 | Train Loss: 0.4503 | Average Loss: 1.0819 \n",
            "Epoch:14 | Iter:   60 | Time: 00:00:22 | Train Loss: 0.5046 | Average Loss: 1.0718 \n",
            "Accuracy: 0.630208 | Time: 00:00:00\n",
            "Epoch:15 | Iter:    0 | Time: 00:00:23 | Train Loss: 0.8641 | Average Loss: 1.0652 \n",
            "Epoch:15 | Iter:   20 | Time: 00:00:23 | Train Loss: 0.6963 | Average Loss: 1.0565 \n",
            "Epoch:15 | Iter:   40 | Time: 00:00:24 | Train Loss: 0.4287 | Average Loss: 1.0479 \n",
            "Epoch:15 | Iter:   60 | Time: 00:00:24 | Train Loss: 0.5111 | Average Loss: 1.0384 \n",
            "Accuracy: 0.611979 | Time: 00:00:00\n",
            "Epoch:16 | Iter:    0 | Time: 00:00:24 | Train Loss: 0.6052 | Average Loss: 1.0325 \n",
            "Epoch:16 | Iter:   20 | Time: 00:00:25 | Train Loss: 0.5284 | Average Loss: 1.0238 \n",
            "Epoch:16 | Iter:   40 | Time: 00:00:25 | Train Loss: 0.4627 | Average Loss: 1.0158 \n",
            "Epoch:16 | Iter:   60 | Time: 00:00:26 | Train Loss: 0.6230 | Average Loss: 1.0073 \n",
            "Accuracy: 0.588542 | Time: 00:00:00\n",
            "Epoch:17 | Iter:    0 | Time: 00:00:26 | Train Loss: 0.6902 | Average Loss: 1.0011 \n",
            "Epoch:17 | Iter:   20 | Time: 00:00:26 | Train Loss: 0.4425 | Average Loss: 0.9943 \n",
            "Epoch:17 | Iter:   40 | Time: 00:00:27 | Train Loss: 0.5914 | Average Loss: 0.9872 \n",
            "Epoch:17 | Iter:   60 | Time: 00:00:27 | Train Loss: 0.4790 | Average Loss: 0.9785 \n",
            "Accuracy: 0.640625 | Time: 00:00:00\n",
            "Epoch:18 | Iter:    0 | Time: 00:00:28 | Train Loss: 0.4363 | Average Loss: 0.9722 \n",
            "Epoch:18 | Iter:   20 | Time: 00:00:28 | Train Loss: 0.5029 | Average Loss: 0.9653 \n",
            "Epoch:18 | Iter:   40 | Time: 00:00:29 | Train Loss: 0.5816 | Average Loss: 0.9587 \n",
            "Epoch:18 | Iter:   60 | Time: 00:00:29 | Train Loss: 0.4326 | Average Loss: 0.9517 \n",
            "Accuracy: 0.640625 | Time: 00:00:00\n",
            "Epoch:19 | Iter:    0 | Time: 00:00:29 | Train Loss: 0.5296 | Average Loss: 0.9465 \n",
            "Epoch:19 | Iter:   20 | Time: 00:00:30 | Train Loss: 0.4397 | Average Loss: 0.9408 \n",
            "Epoch:19 | Iter:   40 | Time: 00:00:30 | Train Loss: 0.4554 | Average Loss: 0.9343 \n",
            "Epoch:19 | Iter:   60 | Time: 00:00:31 | Train Loss: 0.3583 | Average Loss: 0.9274 \n",
            "Accuracy: 0.609375 | Time: 00:00:00\n",
            "Epoch:20 | Iter:    0 | Time: 00:00:31 | Train Loss: 0.5509 | Average Loss: 0.9223 \n",
            "Epoch:20 | Iter:   20 | Time: 00:00:32 | Train Loss: 0.4976 | Average Loss: 0.9159 \n",
            "Epoch:20 | Iter:   40 | Time: 00:00:32 | Train Loss: 0.5696 | Average Loss: 0.9094 \n",
            "Epoch:20 | Iter:   60 | Time: 00:00:32 | Train Loss: 0.3972 | Average Loss: 0.9021 \n",
            "Accuracy: 0.632812 | Time: 00:00:00\n"
          ]
        }
      ],
      "source": [
        "#--------------------------------------------------\n",
        "#       Start Training & Evaluation\n",
        "#--------------------------------------------------\n",
        "net = MyClassifier(0.5) \n",
        "train_option = {}\n",
        "train_option['lr'] = 0.002\n",
        "train_option['epoch'] = 20\n",
        "train_option['device'] = 'gpu'\n",
        "trainModel(net, trainloader_small, train_option, testloader_small)"
      ]
    },
    {
      "cell_type": "markdown",
      "id": "3608bff9",
      "metadata": {
        "id": "3608bff9"
      },
      "source": [
        "**Answer**:\n",
        "\n",
        "(1) which layers of AlexNet have been replaced: 3 convolutional layers and 3 fully connected layers are used in the above model.\n",
        "\n",
        "\n",
        "\n",
        "(2) the architecture of the new layers added including activation methods (same as problem 1)\n",
        "\n",
        "Data augmentation: We have flipped images horizontally.\n",
        "\n",
        "Data normalization: Zero centered normalization has been used.\n",
        "\n",
        "Features Layers : 3\n",
        "\n",
        "Classifier Layer 1: Convolution layer + relu activation function layer\n",
        "\n",
        "Classifier Layer 2: Convolution layer + relu activation function + pooling layer\n",
        "\n",
        "Classifier Layer 3: Convolution layer + relu activation function + pooling layer + Dropout layer\n",
        "\n",
        "...\n",
        "\n",
        "(3) the final accuracy on test set\n",
        "\n",
        "Accuracy on test set: 63\n",
        "\n"
      ]
    },
    {
      "cell_type": "markdown",
      "source": [],
      "metadata": {
        "id": "7eNZ1Dmi-SoU"
      },
      "id": "7eNZ1Dmi-SoU"
    },
    {
      "cell_type": "markdown",
      "id": "af911377",
      "metadata": {
        "id": "af911377"
      },
      "source": [
        "## Problem 1.2\n",
        "\n",
        "(30 points) Try **three different techniques** taught in the class to increase the accuracy of your model. Such as increasing training data by randomly rotating training images, adding batch normalization, different activation functions (e.g., sigmoid) and model architecture modification. Note that too many layers can do you no good due to insufficient training data. Clearly describe your method and accuracy increase/decrease for each of the three techniques.\n",
        "\n",
        "The minimum accuracy required for this section is **0.60**. (At least one Technique should achieve this)\n",
        "\n",
        "### Technique 1"
      ]
    },
    {
      "cell_type": "code",
      "execution_count": 29,
      "id": "c1509b92",
      "metadata": {
        "id": "c1509b92",
        "colab": {
          "base_uri": "https://localhost:8080/"
        },
        "outputId": "6a2f82e4-4f9b-4a30-f58b-d365235b96ec"
      },
      "outputs": [
        {
          "output_type": "stream",
          "name": "stdout",
          "text": [
            "Loading images from class: 0\n"
          ]
        },
        {
          "output_type": "stream",
          "name": "stderr",
          "text": [
            "/usr/local/lib/python3.7/dist-packages/ipykernel_launcher.py:43: DeprecationWarning: `np.float` is a deprecated alias for the builtin `float`. To silence this warning, use `float` by itself. Doing this will not modify any behavior and is safe. If you specifically wanted the numpy scalar type, use `np.float64` here.\n",
            "Deprecated in NumPy 1.20; for more details and guidance: https://numpy.org/devdocs/release/1.20.0-notes.html#deprecations\n"
          ]
        },
        {
          "output_type": "stream",
          "name": "stdout",
          "text": [
            "Loading images from class: 1\n",
            "Loading images from class: 2\n",
            "Loading images from class: 3\n",
            "Loading images from class: 4\n",
            "Loading images from class: 5\n",
            "Loading images from class: 6\n",
            "Loading images from class: 7\n",
            "Loading images from class: 8\n",
            "Loading images from class: 9\n",
            "Loading images from class: 10\n",
            "Loading images from class: 11\n",
            "Loading images from class: 12\n",
            "Loading images from class: 13\n",
            "Loading images from class: 14\n",
            "Loading images from class: 15\n",
            "Augmenting data by horizontally flipping them!\n",
            "Total flipped images:  2400\n",
            "Total data before flipped images:  2400\n",
            "Total data after adding horizontally flipped images:  4800\n",
            "(64, 64)\n",
            "Finish loading 75 minibatches (batch_size=64) of training samples.\n",
            "Loading images from class: 0\n",
            "Loading images from class: 1\n",
            "Loading images from class: 2\n",
            "Loading images from class: 3\n",
            "Loading images from class: 4\n",
            "Loading images from class: 5\n",
            "Loading images from class: 6\n",
            "Loading images from class: 7\n",
            "Loading images from class: 8\n",
            "Loading images from class: 9\n",
            "Loading images from class: 10\n",
            "Loading images from class: 11\n",
            "Loading images from class: 12\n",
            "Loading images from class: 13\n",
            "Loading images from class: 14\n",
            "Loading images from class: 15\n",
            "(64, 64)\n",
            "Finish loading 6 minibatches (batch_size=64) of testing samples.\n"
          ]
        }
      ],
      "source": [
        "#--------------------------------------------------\n",
        "#    Load Training Data and Testing Data\n",
        "#--------------------------------------------------\n",
        "# load data into size (64, 64)\n",
        "img_size = (64, 64)\n",
        "batch_size = 64 # training sample number per batch\n",
        "\n",
        "# load training dataset\n",
        "trainloader_small = list(load_dataset('./data/train/', img_size, batch_size=batch_size, shuffle=True, augment=True, zero_centered=True))\n",
        "train_num = len(trainloader_small)\n",
        "print(\"Finish loading %d minibatches (batch_size=%d) of training samples.\" % (train_num, batch_size))\n",
        "\n",
        "# load testing dataset\n",
        "testloader_small = list(load_dataset('./data/test/', img_size, num_per_class=50, batch_size=batch_size, zero_centered=True))\n",
        "test_num = len(testloader_small)\n",
        "print(\"Finish loading %d minibatches (batch_size=%d) of testing samples.\" % (test_num, batch_size))"
      ]
    },
    {
      "cell_type": "code",
      "execution_count": 32,
      "id": "844b5709",
      "metadata": {
        "id": "844b5709"
      },
      "outputs": [],
      "source": [
        "#--------------------------------------------------\n",
        "#       Define Network Architecture\n",
        "#--------------------------------------------------\n",
        "class ClassifierNetworkSigmoid(nn.Module):\n",
        "\n",
        "    def __init__(self, d_out):\n",
        "      super(ClassifierNetworkSigmoid, self).__init__()\n",
        "        \n",
        "      # Convolution\n",
        "      self.conv1 = nn.Conv2d(1, 32, kernel_size=3, stride=1, padding=1)\n",
        "      self.sigm1 = nn.Sigmoid()\n",
        "      self.conv2 = nn.Conv2d(32, 64, kernel_size=3, stride=1, padding=1)\n",
        "      self.sigm2 = nn.Sigmoid()\n",
        "      self.pool1 = torch.nn.MaxPool2d(kernel_size=2, stride=2, padding=0)\n",
        "      self.d_out = nn.Dropout(d_out)\n",
        "      self.conv3 = nn.Conv2d(64, 16, kernel_size=3, stride=1, padding=1)\n",
        "      self.sigm3 = nn.Sigmoid()\n",
        "      self.pool2 = torch.nn.MaxPool2d(kernel_size=2, stride=2, padding=0)\n",
        "\n",
        "      # Fully Connected Layers\n",
        "      self.fc1 = nn.Linear(16 * 16 * 16, 64)\n",
        "      self.fc2 = nn.Linear(64, 32)\n",
        "      self.fc3 = nn.Linear(32, 16)\n",
        "\n",
        "    def forward(self, x):\n",
        "      y = self.conv1(x)\n",
        "      y = self.sigm1(y)\n",
        "      y = self.conv2(y)\n",
        "      y = self.sigm2(y)\n",
        "      y = self.pool1(y)\n",
        "      y = self.d_out(y)\n",
        "      y = self.conv3(y)\n",
        "      y = self.sigm3(y)\n",
        "      y = self.pool2(y)\n",
        "      y = y.view(y.size(0), -1)\n",
        "      y = self.fc1(y)\n",
        "      y = self.fc2(y)\n",
        "      y = self.fc3(y)\n",
        "      return y"
      ]
    },
    {
      "cell_type": "code",
      "execution_count": 37,
      "id": "3c30ef71",
      "metadata": {
        "id": "3c30ef71",
        "colab": {
          "base_uri": "https://localhost:8080/"
        },
        "outputId": "c9437170-ca8e-42c8-99e8-22087e3b5498"
      },
      "outputs": [
        {
          "output_type": "stream",
          "name": "stdout",
          "text": [
            "Epoch: 1 | Iter:    0 | Time: 00:00:00 | Train Loss: 2.7572 | Average Loss: 2.7572 \n",
            "Epoch: 1 | Iter:   20 | Time: 00:00:00 | Train Loss: 2.7542 | Average Loss: 3.2216 \n",
            "Epoch: 1 | Iter:   40 | Time: 00:00:01 | Train Loss: 2.7884 | Average Loss: 3.0063 \n",
            "Epoch: 1 | Iter:   60 | Time: 00:00:01 | Train Loss: 2.7734 | Average Loss: 2.9301 \n",
            "Accuracy: 0.065104 | Time: 00:00:00\n",
            "Epoch: 2 | Iter:    0 | Time: 00:00:01 | Train Loss: 2.7809 | Average Loss: 2.8998 \n",
            "Epoch: 2 | Iter:   20 | Time: 00:00:02 | Train Loss: 2.7613 | Average Loss: 2.8735 \n",
            "Epoch: 2 | Iter:   40 | Time: 00:00:02 | Train Loss: 2.7788 | Average Loss: 2.8566 \n",
            "Epoch: 2 | Iter:   60 | Time: 00:00:03 | Train Loss: 2.7733 | Average Loss: 2.8443 \n",
            "Accuracy: 0.065104 | Time: 00:00:00\n",
            "Epoch: 3 | Iter:    0 | Time: 00:00:03 | Train Loss: 2.7803 | Average Loss: 2.8374 \n",
            "Epoch: 3 | Iter:   20 | Time: 00:00:03 | Train Loss: 2.7668 | Average Loss: 2.8299 \n",
            "Epoch: 3 | Iter:   40 | Time: 00:00:04 | Train Loss: 2.7749 | Average Loss: 2.8241 \n",
            "Epoch: 3 | Iter:   60 | Time: 00:00:04 | Train Loss: 2.7735 | Average Loss: 2.8192 \n",
            "Accuracy: 0.065104 | Time: 00:00:00\n",
            "Epoch: 4 | Iter:    0 | Time: 00:00:05 | Train Loss: 2.7785 | Average Loss: 2.8163 \n",
            "Epoch: 4 | Iter:   20 | Time: 00:00:05 | Train Loss: 2.7695 | Average Loss: 2.8128 \n",
            "Epoch: 4 | Iter:   40 | Time: 00:00:06 | Train Loss: 2.7737 | Average Loss: 2.8099 \n",
            "Epoch: 4 | Iter:   60 | Time: 00:00:06 | Train Loss: 2.7736 | Average Loss: 2.8073 \n",
            "Accuracy: 0.065104 | Time: 00:00:00\n",
            "Epoch: 5 | Iter:    0 | Time: 00:00:06 | Train Loss: 2.7771 | Average Loss: 2.8056 \n",
            "Epoch: 5 | Iter:   20 | Time: 00:00:07 | Train Loss: 2.7709 | Average Loss: 2.8036 \n",
            "Epoch: 5 | Iter:   40 | Time: 00:00:07 | Train Loss: 2.7734 | Average Loss: 2.8019 \n",
            "Epoch: 5 | Iter:   60 | Time: 00:00:08 | Train Loss: 2.7735 | Average Loss: 2.8003 \n",
            "Accuracy: 0.065104 | Time: 00:00:00\n",
            "Epoch: 6 | Iter:    0 | Time: 00:00:08 | Train Loss: 2.7760 | Average Loss: 2.7992 \n",
            "Epoch: 6 | Iter:   20 | Time: 00:00:09 | Train Loss: 2.7713 | Average Loss: 2.7979 \n",
            "Epoch: 6 | Iter:   40 | Time: 00:00:09 | Train Loss: 2.7734 | Average Loss: 2.7968 \n",
            "Epoch: 6 | Iter:   60 | Time: 00:00:09 | Train Loss: 2.7735 | Average Loss: 2.7957 \n",
            "Accuracy: 0.075521 | Time: 00:00:00\n",
            "Epoch: 7 | Iter:    0 | Time: 00:00:10 | Train Loss: 2.7755 | Average Loss: 2.7949 \n",
            "Epoch: 7 | Iter:   20 | Time: 00:00:10 | Train Loss: 2.7716 | Average Loss: 2.7940 \n",
            "Epoch: 7 | Iter:   40 | Time: 00:00:11 | Train Loss: 2.7735 | Average Loss: 2.7932 \n",
            "Epoch: 7 | Iter:   60 | Time: 00:00:11 | Train Loss: 2.7733 | Average Loss: 2.7924 \n",
            "Accuracy: 0.078125 | Time: 00:00:00\n",
            "Epoch: 8 | Iter:    0 | Time: 00:00:12 | Train Loss: 2.7749 | Average Loss: 2.7919 \n",
            "Epoch: 8 | Iter:   20 | Time: 00:00:12 | Train Loss: 2.7714 | Average Loss: 2.7912 \n",
            "Epoch: 8 | Iter:   40 | Time: 00:00:12 | Train Loss: 2.7730 | Average Loss: 2.7906 \n",
            "Epoch: 8 | Iter:   60 | Time: 00:00:13 | Train Loss: 2.7723 | Average Loss: 2.7900 \n",
            "Accuracy: 0.104167 | Time: 00:00:00\n",
            "Epoch: 9 | Iter:    0 | Time: 00:00:13 | Train Loss: 2.7733 | Average Loss: 2.7895 \n",
            "Epoch: 9 | Iter:   20 | Time: 00:00:14 | Train Loss: 2.7688 | Average Loss: 2.7889 \n",
            "Epoch: 9 | Iter:   40 | Time: 00:00:14 | Train Loss: 2.7718 | Average Loss: 2.7884 \n",
            "Epoch: 9 | Iter:   60 | Time: 00:00:15 | Train Loss: 2.7557 | Average Loss: 2.7877 \n",
            "Accuracy: 0.078125 | Time: 00:00:00\n",
            "Epoch:10 | Iter:    0 | Time: 00:00:15 | Train Loss: 2.7528 | Average Loss: 2.7871 \n",
            "Epoch:10 | Iter:   20 | Time: 00:00:16 | Train Loss: 2.7018 | Average Loss: 2.7857 \n",
            "Epoch:10 | Iter:   40 | Time: 00:00:16 | Train Loss: 2.7147 | Average Loss: 2.7834 \n",
            "Epoch:10 | Iter:   60 | Time: 00:00:17 | Train Loss: 2.5085 | Average Loss: 2.7785 \n",
            "Accuracy: 0.255208 | Time: 00:00:00\n",
            "Epoch:11 | Iter:    0 | Time: 00:00:17 | Train Loss: 2.5631 | Average Loss: 2.7730 \n",
            "Epoch:11 | Iter:   20 | Time: 00:00:18 | Train Loss: 2.5590 | Average Loss: 2.7661 \n",
            "Epoch:11 | Iter:   40 | Time: 00:00:18 | Train Loss: 2.3220 | Average Loss: 2.7577 \n",
            "Epoch:11 | Iter:   60 | Time: 00:00:19 | Train Loss: 2.3757 | Average Loss: 2.7499 \n",
            "Accuracy: 0.247396 | Time: 00:00:00\n",
            "Epoch:12 | Iter:    0 | Time: 00:00:19 | Train Loss: 2.5101 | Average Loss: 2.7427 \n",
            "Epoch:12 | Iter:   20 | Time: 00:00:19 | Train Loss: 2.4981 | Average Loss: 2.7351 \n",
            "Epoch:12 | Iter:   40 | Time: 00:00:20 | Train Loss: 2.2435 | Average Loss: 2.7260 \n",
            "Epoch:12 | Iter:   60 | Time: 00:00:20 | Train Loss: 2.3651 | Average Loss: 2.7185 \n",
            "Accuracy: 0.252604 | Time: 00:00:00\n",
            "Epoch:13 | Iter:    0 | Time: 00:00:21 | Train Loss: 2.4809 | Average Loss: 2.7115 \n",
            "Epoch:13 | Iter:   20 | Time: 00:00:21 | Train Loss: 2.4393 | Average Loss: 2.7039 \n",
            "Epoch:13 | Iter:   40 | Time: 00:00:22 | Train Loss: 2.2177 | Average Loss: 2.6949 \n",
            "Epoch:13 | Iter:   60 | Time: 00:00:22 | Train Loss: 2.3352 | Average Loss: 2.6873 \n",
            "Accuracy: 0.299479 | Time: 00:00:00\n",
            "Epoch:14 | Iter:    0 | Time: 00:00:22 | Train Loss: 2.3587 | Average Loss: 2.6799 \n",
            "Epoch:14 | Iter:   20 | Time: 00:00:23 | Train Loss: 2.3089 | Average Loss: 2.6718 \n",
            "Epoch:14 | Iter:   40 | Time: 00:00:23 | Train Loss: 2.1185 | Average Loss: 2.6621 \n",
            "Epoch:14 | Iter:   60 | Time: 00:00:24 | Train Loss: 2.2720 | Average Loss: 2.6545 \n",
            "Accuracy: 0.307292 | Time: 00:00:00\n",
            "Epoch:15 | Iter:    0 | Time: 00:00:24 | Train Loss: 2.2715 | Average Loss: 2.6472 \n",
            "Epoch:15 | Iter:   20 | Time: 00:00:25 | Train Loss: 2.1613 | Average Loss: 2.6387 \n",
            "Epoch:15 | Iter:   40 | Time: 00:00:25 | Train Loss: 2.0117 | Average Loss: 2.6284 \n",
            "Epoch:15 | Iter:   60 | Time: 00:00:26 | Train Loss: 2.0719 | Average Loss: 2.6195 \n",
            "Accuracy: 0.346354 | Time: 00:00:00\n",
            "Epoch:16 | Iter:    0 | Time: 00:00:26 | Train Loss: 2.1561 | Average Loss: 2.6115 \n",
            "Epoch:16 | Iter:   20 | Time: 00:00:26 | Train Loss: 1.7930 | Average Loss: 2.6003 \n",
            "Epoch:16 | Iter:   40 | Time: 00:00:27 | Train Loss: 1.8346 | Average Loss: 2.5876 \n",
            "Epoch:16 | Iter:   60 | Time: 00:00:27 | Train Loss: 1.7862 | Average Loss: 2.5754 \n",
            "Accuracy: 0.419271 | Time: 00:00:00\n",
            "Epoch:17 | Iter:    0 | Time: 00:00:28 | Train Loss: 1.8890 | Average Loss: 2.5651 \n",
            "Epoch:17 | Iter:   20 | Time: 00:00:28 | Train Loss: 1.5671 | Average Loss: 2.5516 \n",
            "Epoch:17 | Iter:   40 | Time: 00:00:29 | Train Loss: 1.6501 | Average Loss: 2.5382 \n",
            "Epoch:17 | Iter:   60 | Time: 00:00:29 | Train Loss: 1.6190 | Average Loss: 2.5250 \n",
            "Accuracy: 0.421875 | Time: 00:00:00\n",
            "Epoch:18 | Iter:    0 | Time: 00:00:29 | Train Loss: 1.7781 | Average Loss: 2.5145 \n",
            "Epoch:18 | Iter:   20 | Time: 00:00:30 | Train Loss: 1.4885 | Average Loss: 2.5004 \n",
            "Epoch:18 | Iter:   40 | Time: 00:00:30 | Train Loss: 1.5848 | Average Loss: 2.4866 \n",
            "Epoch:18 | Iter:   60 | Time: 00:00:31 | Train Loss: 1.5336 | Average Loss: 2.4736 \n",
            "Accuracy: 0.403646 | Time: 00:00:00\n",
            "Epoch:19 | Iter:    0 | Time: 00:00:31 | Train Loss: 1.8044 | Average Loss: 2.4637 \n",
            "Epoch:19 | Iter:   20 | Time: 00:00:32 | Train Loss: 1.4059 | Average Loss: 2.4499 \n",
            "Epoch:19 | Iter:   40 | Time: 00:00:32 | Train Loss: 1.3816 | Average Loss: 2.4362 \n",
            "Epoch:19 | Iter:   60 | Time: 00:00:33 | Train Loss: 1.3550 | Average Loss: 2.4233 \n",
            "Accuracy: 0.424479 | Time: 00:00:00\n",
            "Epoch:20 | Iter:    0 | Time: 00:00:33 | Train Loss: 1.7547 | Average Loss: 2.4128 \n",
            "Epoch:20 | Iter:   20 | Time: 00:00:33 | Train Loss: 1.2568 | Average Loss: 2.3985 \n",
            "Epoch:20 | Iter:   40 | Time: 00:00:34 | Train Loss: 1.2213 | Average Loss: 2.3840 \n",
            "Epoch:20 | Iter:   60 | Time: 00:00:34 | Train Loss: 1.2243 | Average Loss: 2.3706 \n",
            "Accuracy: 0.434896 | Time: 00:00:00\n"
          ]
        }
      ],
      "source": [
        "#--------------------------------------------------\n",
        "#       Start Training & Evaluation\n",
        "#--------------------------------------------------\n",
        "net = ClassifierNetworkSigmoid(0.5) \n",
        "train_option = {}\n",
        "train_option['lr'] = 0.002\n",
        "train_option['epoch'] = 20\n",
        "train_option['device'] = 'gpu'\n",
        "trainModel(net, trainloader_small, train_option, testloader_small)"
      ]
    },
    {
      "cell_type": "markdown",
      "id": "33bf05db",
      "metadata": {
        "id": "33bf05db"
      },
      "source": [
        "**Answer**:\n",
        "\n",
        "Technique 1: Sigmoid\n",
        "\n",
        "Accuracy on test set: 43 \n",
        "\n",
        "Accuracy increases/decreases: Decreased"
      ]
    },
    {
      "cell_type": "markdown",
      "id": "1b6ba2c7",
      "metadata": {
        "id": "1b6ba2c7"
      },
      "source": [
        "### Technique 2\n"
      ]
    },
    {
      "cell_type": "code",
      "execution_count": 38,
      "id": "bc3d85fa",
      "metadata": {
        "id": "bc3d85fa",
        "colab": {
          "base_uri": "https://localhost:8080/"
        },
        "outputId": "1f4f7c63-70d7-4781-c6e3-76e437cbf607"
      },
      "outputs": [
        {
          "output_type": "stream",
          "name": "stdout",
          "text": [
            "Loading images from class: 0\n"
          ]
        },
        {
          "output_type": "stream",
          "name": "stderr",
          "text": [
            "/usr/local/lib/python3.7/dist-packages/ipykernel_launcher.py:43: DeprecationWarning: `np.float` is a deprecated alias for the builtin `float`. To silence this warning, use `float` by itself. Doing this will not modify any behavior and is safe. If you specifically wanted the numpy scalar type, use `np.float64` here.\n",
            "Deprecated in NumPy 1.20; for more details and guidance: https://numpy.org/devdocs/release/1.20.0-notes.html#deprecations\n"
          ]
        },
        {
          "output_type": "stream",
          "name": "stdout",
          "text": [
            "Loading images from class: 1\n",
            "Loading images from class: 2\n",
            "Loading images from class: 3\n",
            "Loading images from class: 4\n",
            "Loading images from class: 5\n",
            "Loading images from class: 6\n",
            "Loading images from class: 7\n",
            "Loading images from class: 8\n",
            "Loading images from class: 9\n",
            "Loading images from class: 10\n",
            "Loading images from class: 11\n",
            "Loading images from class: 12\n",
            "Loading images from class: 13\n",
            "Loading images from class: 14\n",
            "Loading images from class: 15\n",
            "Augmenting data by horizontally flipping them!\n",
            "Total flipped images:  2400\n",
            "Total data before flipped images:  2400\n",
            "Total data after adding horizontally flipped images:  4800\n",
            "(64, 64)\n",
            "Finish loading 75 minibatches (batch_size=64) of training samples.\n",
            "Loading images from class: 0\n",
            "Loading images from class: 1\n",
            "Loading images from class: 2\n",
            "Loading images from class: 3\n",
            "Loading images from class: 4\n",
            "Loading images from class: 5\n",
            "Loading images from class: 6\n",
            "Loading images from class: 7\n",
            "Loading images from class: 8\n",
            "Loading images from class: 9\n",
            "Loading images from class: 10\n",
            "Loading images from class: 11\n",
            "Loading images from class: 12\n",
            "Loading images from class: 13\n",
            "Loading images from class: 14\n",
            "Loading images from class: 15\n",
            "(64, 64)\n",
            "Finish loading 6 minibatches (batch_size=64) of testing samples.\n"
          ]
        }
      ],
      "source": [
        "#--------------------------------------------------\n",
        "#    Load Training Data and Testing Data\n",
        "#--------------------------------------------------\n",
        "# load data into size (64, 64)\n",
        "img_size = (64, 64)\n",
        "batch_size = 64 # training sample number per batch\n",
        "\n",
        "# load training dataset\n",
        "trainloader_small = list(load_dataset('./data/train/', img_size, batch_size=batch_size, shuffle=True, augment=True, zero_centered=True))\n",
        "train_num = len(trainloader_small)\n",
        "print(\"Finish loading %d minibatches (batch_size=%d) of training samples.\" % (train_num, batch_size))\n",
        "\n",
        "# load testing dataset\n",
        "testloader_small = list(load_dataset('./data/test/', img_size, num_per_class=50, batch_size=batch_size, zero_centered=True))\n",
        "test_num = len(testloader_small)\n",
        "print(\"Finish loading %d minibatches (batch_size=%d) of testing samples.\" % (test_num, batch_size))"
      ]
    },
    {
      "cell_type": "code",
      "execution_count": 41,
      "id": "19fe4e42",
      "metadata": {
        "id": "19fe4e42"
      },
      "outputs": [],
      "source": [
        "#--------------------------------------------------\n",
        "#       Define Network Architecture\n",
        "#--------------------------------------------------\n",
        "class ClassifierNetworkBatchNorm(nn.Module):\n",
        "\n",
        "    def __init__(self, d_out):\n",
        "      super(ClassifierNetworkBatchNorm, self).__init__()\n",
        "        \n",
        "      # Convolution\n",
        "      self.conv1 = nn.Conv2d(1, 32, kernel_size=3, stride=1, padding=1)\n",
        "      self.relu1 = nn.ReLU()\n",
        "      self.conv2 = nn.Conv2d(32, 64, kernel_size=3, stride=1, padding=1)\n",
        "      self.conv2_bn = nn.BatchNorm2d(64)\n",
        "      self.relu2 = nn.ReLU()\n",
        "      self.pool1 = torch.nn.MaxPool2d(kernel_size=2, stride=2, padding=0)\n",
        "      self.d_out = nn.Dropout(d_out)\n",
        "      self.conv3 = nn.Conv2d(64, 16, kernel_size=3, stride=1, padding=1)\n",
        "      self.conv3_bn = nn.BatchNorm2d(16)\n",
        "      self.relu3 = nn.ReLU()\n",
        "      self.pool2 = torch.nn.MaxPool2d(kernel_size=2, stride=2, padding=0)\n",
        "\n",
        "      # Fully Connected Layers\n",
        "      self.fc1 = nn.Linear(16 * 16 * 16, 64)\n",
        "      self.fc2 = nn.Linear(64, 32)\n",
        "      self.fc2_bn = nn.BatchNorm1d(32)\n",
        "      self.fc3 = nn.Linear(32, 16)\n",
        "\n",
        "    def forward(self, x):\n",
        "      y = self.conv1(x)\n",
        "      y = self.relu1(y)\n",
        "      y = self.conv2(y)\n",
        "      y = self.conv2_bn(y)\n",
        "      y = self.relu2(y)\n",
        "      y = self.pool1(y)\n",
        "      y = self.d_out(y)\n",
        "      y = self.conv3(y)\n",
        "      y = self.conv3_bn(y)\n",
        "      y = self.relu3(y)\n",
        "      y = self.pool2(y)\n",
        "      y = y.view(y.size(0), -1)\n",
        "      y = self.fc1(y)\n",
        "      y = self.fc2(y)\n",
        "      y = self.fc2_bn(y)\n",
        "      y = self.fc3(y)\n",
        "      return y\n"
      ]
    },
    {
      "cell_type": "code",
      "execution_count": 42,
      "id": "5e60723f",
      "metadata": {
        "id": "5e60723f",
        "colab": {
          "base_uri": "https://localhost:8080/"
        },
        "outputId": "3a247bc8-b043-4643-a16d-060ba70b7023"
      },
      "outputs": [
        {
          "output_type": "stream",
          "name": "stdout",
          "text": [
            "Epoch: 1 | Iter:    0 | Time: 00:00:00 | Train Loss: 2.9355 | Average Loss: 2.9355 \n",
            "Epoch: 1 | Iter:   20 | Time: 00:00:01 | Train Loss: 2.2059 | Average Loss: 2.4356 \n",
            "Epoch: 1 | Iter:   40 | Time: 00:00:01 | Train Loss: 1.9565 | Average Loss: 2.2750 \n",
            "Epoch: 1 | Iter:   60 | Time: 00:00:02 | Train Loss: 1.8396 | Average Loss: 2.1716 \n",
            "Accuracy: 0.145833 | Time: 00:00:00\n",
            "Epoch: 2 | Iter:    0 | Time: 00:00:02 | Train Loss: 1.6250 | Average Loss: 2.0964 \n",
            "Epoch: 2 | Iter:   20 | Time: 00:00:02 | Train Loss: 1.3489 | Average Loss: 1.9716 \n",
            "Epoch: 2 | Iter:   40 | Time: 00:00:03 | Train Loss: 1.1763 | Average Loss: 1.8622 \n",
            "Epoch: 2 | Iter:   60 | Time: 00:00:03 | Train Loss: 1.0733 | Average Loss: 1.7638 \n",
            "Accuracy: 0.486979 | Time: 00:00:00\n",
            "Epoch: 3 | Iter:    0 | Time: 00:00:04 | Train Loss: 1.1537 | Average Loss: 1.6970 \n",
            "Epoch: 3 | Iter:   20 | Time: 00:00:04 | Train Loss: 0.8544 | Average Loss: 1.6125 \n",
            "Epoch: 3 | Iter:   40 | Time: 00:00:05 | Train Loss: 0.6899 | Average Loss: 1.5337 \n",
            "Epoch: 3 | Iter:   60 | Time: 00:00:05 | Train Loss: 0.7894 | Average Loss: 1.4646 \n",
            "Accuracy: 0.549479 | Time: 00:00:00\n",
            "Epoch: 4 | Iter:    0 | Time: 00:00:06 | Train Loss: 0.7625 | Average Loss: 1.4158 \n",
            "Epoch: 4 | Iter:   20 | Time: 00:00:06 | Train Loss: 0.5614 | Average Loss: 1.3562 \n",
            "Epoch: 4 | Iter:   40 | Time: 00:00:07 | Train Loss: 0.4525 | Average Loss: 1.2969 \n",
            "Epoch: 4 | Iter:   60 | Time: 00:00:07 | Train Loss: 0.4613 | Average Loss: 1.2440 \n",
            "Accuracy: 0.593750 | Time: 00:00:00\n",
            "Epoch: 5 | Iter:    0 | Time: 00:00:08 | Train Loss: 0.4609 | Average Loss: 1.2066 \n",
            "Epoch: 5 | Iter:   20 | Time: 00:00:08 | Train Loss: 0.4017 | Average Loss: 1.1606 \n",
            "Epoch: 5 | Iter:   40 | Time: 00:00:09 | Train Loss: 0.3663 | Average Loss: 1.1154 \n",
            "Epoch: 5 | Iter:   60 | Time: 00:00:09 | Train Loss: 0.4444 | Average Loss: 1.0753 \n",
            "Accuracy: 0.617188 | Time: 00:00:00\n",
            "Epoch: 6 | Iter:    0 | Time: 00:00:10 | Train Loss: 0.2695 | Average Loss: 1.0460 \n",
            "Epoch: 6 | Iter:   20 | Time: 00:00:10 | Train Loss: 0.3081 | Average Loss: 1.0087 \n",
            "Epoch: 6 | Iter:   40 | Time: 00:00:11 | Train Loss: 0.2484 | Average Loss: 0.9731 \n",
            "Epoch: 6 | Iter:   60 | Time: 00:00:11 | Train Loss: 0.3247 | Average Loss: 0.9403 \n",
            "Accuracy: 0.549479 | Time: 00:00:00\n",
            "Epoch: 7 | Iter:    0 | Time: 00:00:12 | Train Loss: 0.2262 | Average Loss: 0.9173 \n",
            "Epoch: 7 | Iter:   20 | Time: 00:00:12 | Train Loss: 0.2346 | Average Loss: 0.8868 \n",
            "Epoch: 7 | Iter:   40 | Time: 00:00:13 | Train Loss: 0.2198 | Average Loss: 0.8583 \n",
            "Epoch: 7 | Iter:   60 | Time: 00:00:13 | Train Loss: 0.1602 | Average Loss: 0.8313 \n",
            "Accuracy: 0.565104 | Time: 00:00:00\n",
            "Epoch: 8 | Iter:    0 | Time: 00:00:14 | Train Loss: 0.2036 | Average Loss: 0.8124 \n",
            "Epoch: 8 | Iter:   20 | Time: 00:00:14 | Train Loss: 0.1028 | Average Loss: 0.7875 \n",
            "Epoch: 8 | Iter:   40 | Time: 00:00:15 | Train Loss: 0.1316 | Average Loss: 0.7640 \n",
            "Epoch: 8 | Iter:   60 | Time: 00:00:15 | Train Loss: 0.0944 | Average Loss: 0.7419 \n",
            "Accuracy: 0.578125 | Time: 00:00:00\n",
            "Epoch: 9 | Iter:    0 | Time: 00:00:16 | Train Loss: 0.1168 | Average Loss: 0.7259 \n",
            "Epoch: 9 | Iter:   20 | Time: 00:00:16 | Train Loss: 0.0751 | Average Loss: 0.7058 \n",
            "Epoch: 9 | Iter:   40 | Time: 00:00:17 | Train Loss: 0.0697 | Average Loss: 0.6865 \n",
            "Epoch: 9 | Iter:   60 | Time: 00:00:17 | Train Loss: 0.0828 | Average Loss: 0.6680 \n",
            "Accuracy: 0.617188 | Time: 00:00:00\n",
            "Epoch:10 | Iter:    0 | Time: 00:00:18 | Train Loss: 0.0965 | Average Loss: 0.6550 \n",
            "Epoch:10 | Iter:   20 | Time: 00:00:18 | Train Loss: 0.0782 | Average Loss: 0.6382 \n",
            "Epoch:10 | Iter:   40 | Time: 00:00:19 | Train Loss: 0.0774 | Average Loss: 0.6224 \n",
            "Epoch:10 | Iter:   60 | Time: 00:00:19 | Train Loss: 0.0437 | Average Loss: 0.6071 \n",
            "Accuracy: 0.614583 | Time: 00:00:00\n",
            "Epoch:11 | Iter:    0 | Time: 00:00:20 | Train Loss: 0.0737 | Average Loss: 0.5962 \n",
            "Epoch:11 | Iter:   20 | Time: 00:00:20 | Train Loss: 0.0490 | Average Loss: 0.5822 \n",
            "Epoch:11 | Iter:   40 | Time: 00:00:21 | Train Loss: 0.0686 | Average Loss: 0.5691 \n",
            "Epoch:11 | Iter:   60 | Time: 00:00:21 | Train Loss: 0.0748 | Average Loss: 0.5564 \n",
            "Accuracy: 0.614583 | Time: 00:00:00\n",
            "Epoch:12 | Iter:    0 | Time: 00:00:22 | Train Loss: 0.0784 | Average Loss: 0.5473 \n",
            "Epoch:12 | Iter:   20 | Time: 00:00:22 | Train Loss: 0.0575 | Average Loss: 0.5355 \n",
            "Epoch:12 | Iter:   40 | Time: 00:00:23 | Train Loss: 0.0438 | Average Loss: 0.5241 \n",
            "Epoch:12 | Iter:   60 | Time: 00:00:23 | Train Loss: 0.0221 | Average Loss: 0.5131 \n",
            "Accuracy: 0.567708 | Time: 00:00:00\n",
            "Epoch:13 | Iter:    0 | Time: 00:00:24 | Train Loss: 0.0182 | Average Loss: 0.5051 \n",
            "Epoch:13 | Iter:   20 | Time: 00:00:24 | Train Loss: 0.0304 | Average Loss: 0.4950 \n",
            "Epoch:13 | Iter:   40 | Time: 00:00:25 | Train Loss: 0.0796 | Average Loss: 0.4852 \n",
            "Epoch:13 | Iter:   60 | Time: 00:00:25 | Train Loss: 0.0230 | Average Loss: 0.4757 \n",
            "Accuracy: 0.630208 | Time: 00:00:00\n",
            "Epoch:14 | Iter:    0 | Time: 00:00:26 | Train Loss: 0.0156 | Average Loss: 0.4688 \n",
            "Epoch:14 | Iter:   20 | Time: 00:00:26 | Train Loss: 0.0171 | Average Loss: 0.4600 \n",
            "Epoch:14 | Iter:   40 | Time: 00:00:27 | Train Loss: 0.0147 | Average Loss: 0.4514 \n",
            "Epoch:14 | Iter:   60 | Time: 00:00:27 | Train Loss: 0.0209 | Average Loss: 0.4431 \n",
            "Accuracy: 0.596354 | Time: 00:00:00\n",
            "Epoch:15 | Iter:    0 | Time: 00:00:28 | Train Loss: 0.0177 | Average Loss: 0.4371 \n",
            "Epoch:15 | Iter:   20 | Time: 00:00:28 | Train Loss: 0.0241 | Average Loss: 0.4294 \n",
            "Epoch:15 | Iter:   40 | Time: 00:00:29 | Train Loss: 0.0129 | Average Loss: 0.4220 \n",
            "Epoch:15 | Iter:   60 | Time: 00:00:29 | Train Loss: 0.0161 | Average Loss: 0.4149 \n",
            "Accuracy: 0.588542 | Time: 00:00:00\n",
            "Epoch:16 | Iter:    0 | Time: 00:00:30 | Train Loss: 0.0316 | Average Loss: 0.4096 \n",
            "Epoch:16 | Iter:   20 | Time: 00:00:30 | Train Loss: 0.0138 | Average Loss: 0.4028 \n",
            "Epoch:16 | Iter:   40 | Time: 00:00:31 | Train Loss: 0.0181 | Average Loss: 0.3962 \n",
            "Epoch:16 | Iter:   60 | Time: 00:00:32 | Train Loss: 0.0243 | Average Loss: 0.3899 \n",
            "Accuracy: 0.572917 | Time: 00:00:00\n",
            "Epoch:17 | Iter:    0 | Time: 00:00:32 | Train Loss: 0.0160 | Average Loss: 0.3853 \n",
            "Epoch:17 | Iter:   20 | Time: 00:00:32 | Train Loss: 0.0099 | Average Loss: 0.3793 \n",
            "Epoch:17 | Iter:   40 | Time: 00:00:33 | Train Loss: 0.0165 | Average Loss: 0.3735 \n",
            "Epoch:17 | Iter:   60 | Time: 00:00:34 | Train Loss: 0.0121 | Average Loss: 0.3678 \n",
            "Accuracy: 0.598958 | Time: 00:00:00\n",
            "Epoch:18 | Iter:    0 | Time: 00:00:34 | Train Loss: 0.0079 | Average Loss: 0.3638 \n",
            "Epoch:18 | Iter:   20 | Time: 00:00:34 | Train Loss: 0.0091 | Average Loss: 0.3584 \n",
            "Epoch:18 | Iter:   40 | Time: 00:00:35 | Train Loss: 0.0212 | Average Loss: 0.3532 \n",
            "Epoch:18 | Iter:   60 | Time: 00:00:36 | Train Loss: 0.0209 | Average Loss: 0.3482 \n",
            "Accuracy: 0.591146 | Time: 00:00:00\n",
            "Epoch:19 | Iter:    0 | Time: 00:00:36 | Train Loss: 0.0108 | Average Loss: 0.3445 \n",
            "Epoch:19 | Iter:   20 | Time: 00:00:36 | Train Loss: 0.0095 | Average Loss: 0.3398 \n",
            "Epoch:19 | Iter:   40 | Time: 00:00:37 | Train Loss: 0.0162 | Average Loss: 0.3351 \n",
            "Epoch:19 | Iter:   60 | Time: 00:00:38 | Train Loss: 0.0177 | Average Loss: 0.3306 \n",
            "Accuracy: 0.593750 | Time: 00:00:00\n",
            "Epoch:20 | Iter:    0 | Time: 00:00:38 | Train Loss: 0.0161 | Average Loss: 0.3273 \n",
            "Epoch:20 | Iter:   20 | Time: 00:00:38 | Train Loss: 0.0083 | Average Loss: 0.3230 \n",
            "Epoch:20 | Iter:   40 | Time: 00:00:39 | Train Loss: 0.0198 | Average Loss: 0.3188 \n",
            "Epoch:20 | Iter:   60 | Time: 00:00:40 | Train Loss: 0.0103 | Average Loss: 0.3148 \n",
            "Accuracy: 0.559896 | Time: 00:00:00\n"
          ]
        }
      ],
      "source": [
        "#--------------------------------------------------\n",
        "#       Start Training & Evaluation\n",
        "#--------------------------------------------------\n",
        "net = ClassifierNetworkBatchNorm(0.5) \n",
        "train_option = {}\n",
        "train_option['lr'] = 0.002\n",
        "train_option['epoch'] = 20\n",
        "train_option['device'] = 'gpu'\n",
        "trainModel(net, trainloader_small, train_option, testloader_small)"
      ]
    },
    {
      "cell_type": "markdown",
      "id": "cf9db93f",
      "metadata": {
        "id": "cf9db93f"
      },
      "source": [
        "**Answer**:\n",
        "\n",
        "Technique 2: Batch Normalization Technique\n",
        "\n",
        "Accuracy on test set: 55\n",
        "\n",
        "Accuracy increases/decreases: Increased"
      ]
    },
    {
      "cell_type": "markdown",
      "id": "3400e482",
      "metadata": {
        "id": "3400e482"
      },
      "source": [
        "### Technique 3"
      ]
    },
    {
      "cell_type": "code",
      "execution_count": 43,
      "id": "57f104cc",
      "metadata": {
        "id": "57f104cc",
        "colab": {
          "base_uri": "https://localhost:8080/"
        },
        "outputId": "313493ae-19bf-42b0-e95a-e8963fe2e05f"
      },
      "outputs": [
        {
          "output_type": "stream",
          "name": "stdout",
          "text": [
            "Loading images from class: 0\n"
          ]
        },
        {
          "output_type": "stream",
          "name": "stderr",
          "text": [
            "/usr/local/lib/python3.7/dist-packages/ipykernel_launcher.py:43: DeprecationWarning: `np.float` is a deprecated alias for the builtin `float`. To silence this warning, use `float` by itself. Doing this will not modify any behavior and is safe. If you specifically wanted the numpy scalar type, use `np.float64` here.\n",
            "Deprecated in NumPy 1.20; for more details and guidance: https://numpy.org/devdocs/release/1.20.0-notes.html#deprecations\n"
          ]
        },
        {
          "output_type": "stream",
          "name": "stdout",
          "text": [
            "Loading images from class: 1\n",
            "Loading images from class: 2\n",
            "Loading images from class: 3\n",
            "Loading images from class: 4\n",
            "Loading images from class: 5\n",
            "Loading images from class: 6\n",
            "Loading images from class: 7\n",
            "Loading images from class: 8\n",
            "Loading images from class: 9\n",
            "Loading images from class: 10\n",
            "Loading images from class: 11\n",
            "Loading images from class: 12\n",
            "Loading images from class: 13\n",
            "Loading images from class: 14\n",
            "Loading images from class: 15\n",
            "Augmenting data by horizontally flipping them!\n",
            "Total flipped images:  2400\n",
            "Total data before flipped images:  2400\n",
            "Total data after adding horizontally flipped images:  4800\n",
            "(64, 64)\n",
            "Finish loading 75 minibatches (batch_size=64) of training samples.\n",
            "Loading images from class: 0\n",
            "Loading images from class: 1\n",
            "Loading images from class: 2\n",
            "Loading images from class: 3\n",
            "Loading images from class: 4\n",
            "Loading images from class: 5\n",
            "Loading images from class: 6\n",
            "Loading images from class: 7\n",
            "Loading images from class: 8\n",
            "Loading images from class: 9\n",
            "Loading images from class: 10\n",
            "Loading images from class: 11\n",
            "Loading images from class: 12\n",
            "Loading images from class: 13\n",
            "Loading images from class: 14\n",
            "Loading images from class: 15\n",
            "(64, 64)\n",
            "Finish loading 6 minibatches (batch_size=64) of testing samples.\n"
          ]
        }
      ],
      "source": [
        "#--------------------------------------------------\n",
        "#    Load Training Data and Testing Data\n",
        "#--------------------------------------------------\n",
        "# load data into size (64, 64)\n",
        "img_size = (64, 64)\n",
        "batch_size = 64 # training sample number per batch\n",
        "\n",
        "# load training dataset\n",
        "trainloader_small = list(load_dataset('./data/train/', img_size, batch_size=batch_size, shuffle=True, augment=True, zero_centered=True))\n",
        "train_num = len(trainloader_small)\n",
        "print(\"Finish loading %d minibatches (batch_size=%d) of training samples.\" % (train_num, batch_size))\n",
        "\n",
        "# load testing dataset\n",
        "testloader_small = list(load_dataset('./data/test/', img_size, num_per_class=50, batch_size=batch_size, zero_centered=True))\n",
        "test_num = len(testloader_small)\n",
        "print(\"Finish loading %d minibatches (batch_size=%d) of testing samples.\" % (test_num, batch_size))"
      ]
    },
    {
      "cell_type": "code",
      "execution_count": 44,
      "id": "4f46c1eb",
      "metadata": {
        "id": "4f46c1eb"
      },
      "outputs": [],
      "source": [
        "#--------------------------------------------------\n",
        "#       Define Network Architecture\n",
        "#--------------------------------------------------\n",
        "class ConvNet(nn.Module):\n",
        "    def __init__(self):\n",
        "        super(ConvNet, self).__init__()\n",
        "        self.layer1 = nn.Sequential(\n",
        "            nn.Conv2d(1, 32, kernel_size=5, stride=1, padding=2),\n",
        "            nn.ReLU(),\n",
        "            #nn.Sigmoid()\n",
        "            nn.MaxPool2d(kernel_size=2, stride=2))\n",
        "        self.layer2 = nn.Sequential(\n",
        "            nn.Conv2d(32, 64, kernel_size=5, stride=1, padding=2),\n",
        "            nn.ReLU(),\n",
        "            #nn.Sigmoid\n",
        "            nn.MaxPool2d(kernel_size=2, stride=2))\n",
        "        self.drop_out = nn.Dropout2d()\n",
        "        self.fc1 = nn.Linear(16 * 16 * 64, 1000)\n",
        "        self.fc1_bn = nn.BatchNorm1d(16*16*64)\n",
        "        self.fc2 = nn.Linear(1000, 16)\n",
        "    \n",
        "    \n",
        "    def forward(self, x):\n",
        "        out = self.layer1(x)\n",
        "        out = self.layer2(out)\n",
        "        out = out.reshape(out.size(0), -1)\n",
        "        out = self.drop_out(out)\n",
        "        out = self.fc1_bn(out)\n",
        "        out = self.fc1(out)\n",
        "        out = self.fc2(out)\n",
        "        return out"
      ]
    },
    {
      "cell_type": "code",
      "execution_count": 46,
      "id": "61535319",
      "metadata": {
        "id": "61535319",
        "colab": {
          "base_uri": "https://localhost:8080/"
        },
        "outputId": "79a96794-0c21-4b3d-ab46-3999ec81b580"
      },
      "outputs": [
        {
          "output_type": "stream",
          "name": "stdout",
          "text": [
            "Epoch: 1 | Iter:    0 | Time: 00:00:00 | Train Loss: 2.8175 | Average Loss: 2.8175 \n",
            "Epoch: 1 | Iter:   20 | Time: 00:00:00 | Train Loss: 4.2855 | Average Loss: 4.6666 \n",
            "Epoch: 1 | Iter:   40 | Time: 00:00:00 | Train Loss: 2.9174 | Average Loss: 3.8483 \n",
            "Epoch: 1 | Iter:   60 | Time: 00:00:01 | Train Loss: 2.6721 | Average Loss: 3.3891 \n",
            "Accuracy: 0.335938 | Time: 00:00:00\n",
            "Epoch: 2 | Iter:    0 | Time: 00:00:01 | Train Loss: 2.0870 | Average Loss: 3.1539 \n",
            "Epoch: 2 | Iter:   20 | Time: 00:00:02 | Train Loss: 2.6024 | Average Loss: 2.9519 \n",
            "Epoch: 2 | Iter:   40 | Time: 00:00:02 | Train Loss: 2.1702 | Average Loss: 2.8288 \n",
            "Epoch: 2 | Iter:   60 | Time: 00:00:02 | Train Loss: 2.3319 | Average Loss: 2.7310 \n",
            "Accuracy: 0.432292 | Time: 00:00:00\n",
            "Epoch: 3 | Iter:    0 | Time: 00:00:03 | Train Loss: 1.8099 | Average Loss: 2.6639 \n",
            "Epoch: 3 | Iter:   20 | Time: 00:00:03 | Train Loss: 2.2773 | Average Loss: 2.6005 \n",
            "Epoch: 3 | Iter:   40 | Time: 00:00:03 | Train Loss: 1.9154 | Average Loss: 2.5390 \n",
            "Epoch: 3 | Iter:   60 | Time: 00:00:04 | Train Loss: 2.0463 | Average Loss: 2.4959 \n",
            "Accuracy: 0.502604 | Time: 00:00:00\n",
            "Epoch: 4 | Iter:    0 | Time: 00:00:04 | Train Loss: 2.2097 | Average Loss: 2.4625 \n",
            "Epoch: 4 | Iter:   20 | Time: 00:00:05 | Train Loss: 2.8397 | Average Loss: 2.4259 \n",
            "Epoch: 4 | Iter:   40 | Time: 00:00:05 | Train Loss: 1.9152 | Average Loss: 2.3922 \n",
            "Epoch: 4 | Iter:   60 | Time: 00:00:05 | Train Loss: 2.0468 | Average Loss: 2.3789 \n",
            "Accuracy: 0.421875 | Time: 00:00:00\n",
            "Epoch: 5 | Iter:    0 | Time: 00:00:06 | Train Loss: 1.9042 | Average Loss: 2.3610 \n",
            "Epoch: 5 | Iter:   20 | Time: 00:00:06 | Train Loss: 2.7267 | Average Loss: 2.3458 \n",
            "Epoch: 5 | Iter:   40 | Time: 00:00:07 | Train Loss: 1.6029 | Average Loss: 2.3263 \n",
            "Epoch: 5 | Iter:   60 | Time: 00:00:07 | Train Loss: 1.4800 | Average Loss: 2.3209 \n",
            "Accuracy: 0.526042 | Time: 00:00:00\n",
            "Epoch: 6 | Iter:    0 | Time: 00:00:07 | Train Loss: 1.5880 | Average Loss: 2.3003 \n",
            "Epoch: 6 | Iter:   20 | Time: 00:00:08 | Train Loss: 2.9666 | Average Loss: 2.2958 \n",
            "Epoch: 6 | Iter:   40 | Time: 00:00:08 | Train Loss: 2.7278 | Average Loss: 2.2898 \n",
            "Epoch: 6 | Iter:   60 | Time: 00:00:09 | Train Loss: 1.8960 | Average Loss: 2.2942 \n",
            "Accuracy: 0.486979 | Time: 00:00:00\n",
            "Epoch: 7 | Iter:    0 | Time: 00:00:09 | Train Loss: 1.4717 | Average Loss: 2.2923 \n",
            "Epoch: 7 | Iter:   20 | Time: 00:00:09 | Train Loss: 1.9696 | Average Loss: 2.2814 \n",
            "Epoch: 7 | Iter:   40 | Time: 00:00:10 | Train Loss: 1.8320 | Average Loss: 2.2727 \n",
            "Epoch: 7 | Iter:   60 | Time: 00:00:10 | Train Loss: 2.3416 | Average Loss: 2.2620 \n",
            "Accuracy: 0.453125 | Time: 00:00:00\n",
            "Epoch: 8 | Iter:    0 | Time: 00:00:10 | Train Loss: 2.2356 | Average Loss: 2.2539 \n",
            "Epoch: 8 | Iter:   20 | Time: 00:00:11 | Train Loss: 2.1401 | Average Loss: 2.2529 \n",
            "Epoch: 8 | Iter:   40 | Time: 00:00:11 | Train Loss: 2.0150 | Average Loss: 2.2480 \n",
            "Epoch: 8 | Iter:   60 | Time: 00:00:12 | Train Loss: 2.4609 | Average Loss: 2.2444 \n",
            "Accuracy: 0.528646 | Time: 00:00:00\n",
            "Epoch: 9 | Iter:    0 | Time: 00:00:12 | Train Loss: 1.8627 | Average Loss: 2.2393 \n",
            "Epoch: 9 | Iter:   20 | Time: 00:00:12 | Train Loss: 2.3890 | Average Loss: 2.2311 \n",
            "Epoch: 9 | Iter:   40 | Time: 00:00:13 | Train Loss: 2.3721 | Average Loss: 2.2215 \n",
            "Epoch: 9 | Iter:   60 | Time: 00:00:13 | Train Loss: 2.1122 | Average Loss: 2.2147 \n",
            "Accuracy: 0.453125 | Time: 00:00:00\n",
            "Epoch:10 | Iter:    0 | Time: 00:00:13 | Train Loss: 1.2446 | Average Loss: 2.2040 \n",
            "Epoch:10 | Iter:   20 | Time: 00:00:14 | Train Loss: 1.5240 | Average Loss: 2.1906 \n",
            "Epoch:10 | Iter:   40 | Time: 00:00:14 | Train Loss: 2.3528 | Average Loss: 2.1793 \n",
            "Epoch:10 | Iter:   60 | Time: 00:00:15 | Train Loss: 1.7956 | Average Loss: 2.1694 \n",
            "Accuracy: 0.445312 | Time: 00:00:00\n",
            "Epoch:11 | Iter:    0 | Time: 00:00:15 | Train Loss: 1.1070 | Average Loss: 2.1609 \n",
            "Epoch:11 | Iter:   20 | Time: 00:00:15 | Train Loss: 2.2350 | Average Loss: 2.1562 \n",
            "Epoch:11 | Iter:   40 | Time: 00:00:16 | Train Loss: 1.8262 | Average Loss: 2.1517 \n",
            "Epoch:11 | Iter:   60 | Time: 00:00:16 | Train Loss: 1.6742 | Average Loss: 2.1449 \n",
            "Accuracy: 0.583333 | Time: 00:00:00\n",
            "Epoch:12 | Iter:    0 | Time: 00:00:17 | Train Loss: 1.7554 | Average Loss: 2.1369 \n",
            "Epoch:12 | Iter:   20 | Time: 00:00:17 | Train Loss: 2.1352 | Average Loss: 2.1261 \n",
            "Epoch:12 | Iter:   40 | Time: 00:00:17 | Train Loss: 1.4487 | Average Loss: 2.1167 \n",
            "Epoch:12 | Iter:   60 | Time: 00:00:18 | Train Loss: 1.4235 | Average Loss: 2.1043 \n",
            "Accuracy: 0.541667 | Time: 00:00:00\n",
            "Epoch:13 | Iter:    0 | Time: 00:00:18 | Train Loss: 1.1187 | Average Loss: 2.0955 \n",
            "Epoch:13 | Iter:   20 | Time: 00:00:19 | Train Loss: 1.8653 | Average Loss: 2.0852 \n",
            "Epoch:13 | Iter:   40 | Time: 00:00:19 | Train Loss: 1.3790 | Average Loss: 2.0766 \n",
            "Epoch:13 | Iter:   60 | Time: 00:00:19 | Train Loss: 1.5264 | Average Loss: 2.0705 \n",
            "Accuracy: 0.515625 | Time: 00:00:00\n",
            "Epoch:14 | Iter:    0 | Time: 00:00:20 | Train Loss: 1.4474 | Average Loss: 2.0687 \n",
            "Epoch:14 | Iter:   20 | Time: 00:00:20 | Train Loss: 2.4049 | Average Loss: 2.0648 \n",
            "Epoch:14 | Iter:   40 | Time: 00:00:21 | Train Loss: 1.2359 | Average Loss: 2.0647 \n",
            "Epoch:14 | Iter:   60 | Time: 00:00:21 | Train Loss: 2.0622 | Average Loss: 2.0672 \n",
            "Accuracy: 0.489583 | Time: 00:00:00\n",
            "Epoch:15 | Iter:    0 | Time: 00:00:21 | Train Loss: 1.5276 | Average Loss: 2.0658 \n",
            "Epoch:15 | Iter:   20 | Time: 00:00:22 | Train Loss: 2.5140 | Average Loss: 2.0651 \n",
            "Epoch:15 | Iter:   40 | Time: 00:00:22 | Train Loss: 1.3527 | Average Loss: 2.0594 \n",
            "Epoch:15 | Iter:   60 | Time: 00:00:23 | Train Loss: 1.4003 | Average Loss: 2.0566 \n",
            "Accuracy: 0.518229 | Time: 00:00:00\n",
            "Epoch:16 | Iter:    0 | Time: 00:00:23 | Train Loss: 1.4007 | Average Loss: 2.0577 \n",
            "Epoch:16 | Iter:   20 | Time: 00:00:23 | Train Loss: 1.9688 | Average Loss: 2.0600 \n",
            "Epoch:16 | Iter:   40 | Time: 00:00:24 | Train Loss: 1.5538 | Average Loss: 2.0596 \n",
            "Epoch:16 | Iter:   60 | Time: 00:00:24 | Train Loss: 2.8688 | Average Loss: 2.0620 \n",
            "Accuracy: 0.580729 | Time: 00:00:00\n",
            "Epoch:17 | Iter:    0 | Time: 00:00:24 | Train Loss: 1.5594 | Average Loss: 2.0624 \n",
            "Epoch:17 | Iter:   20 | Time: 00:00:25 | Train Loss: 1.0923 | Average Loss: 2.0611 \n",
            "Epoch:17 | Iter:   40 | Time: 00:00:25 | Train Loss: 1.7526 | Average Loss: 2.0589 \n",
            "Epoch:17 | Iter:   60 | Time: 00:00:26 | Train Loss: 1.7966 | Average Loss: 2.0579 \n",
            "Accuracy: 0.578125 | Time: 00:00:00\n",
            "Epoch:18 | Iter:    0 | Time: 00:00:26 | Train Loss: 1.0537 | Average Loss: 2.0528 \n",
            "Epoch:18 | Iter:   20 | Time: 00:00:26 | Train Loss: 1.1053 | Average Loss: 2.0435 \n",
            "Epoch:18 | Iter:   40 | Time: 00:00:27 | Train Loss: 1.2074 | Average Loss: 2.0358 \n",
            "Epoch:18 | Iter:   60 | Time: 00:00:27 | Train Loss: 1.2488 | Average Loss: 2.0296 \n",
            "Accuracy: 0.536458 | Time: 00:00:00\n",
            "Epoch:19 | Iter:    0 | Time: 00:00:28 | Train Loss: 1.4875 | Average Loss: 2.0211 \n",
            "Epoch:19 | Iter:   20 | Time: 00:00:28 | Train Loss: 1.0587 | Average Loss: 2.0124 \n",
            "Epoch:19 | Iter:   40 | Time: 00:00:29 | Train Loss: 1.4346 | Average Loss: 2.0037 \n",
            "Epoch:19 | Iter:   60 | Time: 00:00:29 | Train Loss: 1.4223 | Average Loss: 1.9950 \n",
            "Accuracy: 0.554688 | Time: 00:00:00\n",
            "Epoch:20 | Iter:    0 | Time: 00:00:29 | Train Loss: 0.7361 | Average Loss: 1.9877 \n",
            "Epoch:20 | Iter:   20 | Time: 00:00:30 | Train Loss: 2.0435 | Average Loss: 1.9820 \n",
            "Epoch:20 | Iter:   40 | Time: 00:00:30 | Train Loss: 2.1793 | Average Loss: 1.9744 \n",
            "Epoch:20 | Iter:   60 | Time: 00:00:31 | Train Loss: 1.2894 | Average Loss: 1.9667 \n",
            "Accuracy: 0.617188 | Time: 00:00:00\n"
          ]
        }
      ],
      "source": [
        "#--------------------------------------------------\n",
        "#       Start Training & Evaluation\n",
        "#--------------------------------------------------\n",
        "net = ConvNet() \n",
        "train_option = {}\n",
        "train_option['lr'] = 0.002\n",
        "train_option['epoch'] = 20\n",
        "train_option['device'] = 'gpu'\n",
        "trainModel(net, trainloader_small, train_option, testloader_small)"
      ]
    },
    {
      "cell_type": "markdown",
      "id": "d3b54f78",
      "metadata": {
        "id": "d3b54f78"
      },
      "source": [
        "**Answer**:\n",
        "\n",
        "Technique 3: ReLU\n",
        "\n",
        "Accuracy on test set: 61\n",
        "\n",
        "Accuracy increases/decreases: Increased"
      ]
    },
    {
      "cell_type": "markdown",
      "id": "090600db",
      "metadata": {
        "id": "090600db"
      },
      "source": [
        "## Submission guidelines\n",
        "---\n",
        "Extract the downloaded .zip file to a folder of your preference. The input and output paths are predefined and **DO NOT** change them, (we assume that 'Surname_Givenname_assignment2_part2' is your working directory, and all the paths are relative to this directory).  The image read and write functions are already written for you. All you need to do is to fill in the blanks as indicated to generate proper outputs. **DO NOT** zip and upload the dataset on canvas due to size limit.\n",
        "\n",
        "When submitting your .zip file through blackboard, please\n",
        "-- name your .zip file as **Surname_Givenname_assignment2_part1.zip**.\n",
        "\n",
        "This zip file should include:\n",
        "```\n",
        "Surname_Givenname_UNCCID_assignment2_part2  \n",
        "        |---Surname_Givenname_UNCCID_assignment2_part2.ipynb\n",
        "        |---Surname_Givenname_UNCCID_assignment2_part2.pdf\n",
        "```\n",
        "\n",
        "For instance, student Yann Lecun should submit a zip file named \"Lecun_Yann_111134567_assignment2_part1.zip\" for assignment2_part1 in this structure:\n",
        "```\n",
        "Lecun_Yann_111134567_assignment2_part2\n",
        "        |---Lecun_Yann_111134567_assignment2_part2.ipynb\n",
        "        |---Lecun_Yann_111134567_assignment2_part2.pdf\n",
        "```\n",
        "\n",
        "Then right click this folder, click ***Get shareable link***, in the People textfield, enter TA's emails: ***psingire@uncc.edu*** and ***kchiguru@uncc.edu***. Make sure that TAs who have the link **can edit**, ***not just*** **can view**, and also **uncheck** the **Notify people** box.\n",
        "\n",
        "Note that in google colab, we will only grade the version of the code right before the timestamp of the submission made in canvas. \n",
        "\n",
        "Extract the downloaded .zip file to a folder of your preference. The input and output paths are predefined and **DO NOT** change them, (we assume that 'Surname_Givenname_UNCCID_assignment1' is your working directory, and all the paths are relative to this directory).  The image read and write functions are already written for you. All you need to do is to fill in the blanks as indicated to generate proper outputs.\n",
        "\n",
        "\n",
        "-- DO NOT change the folder structure, please just fill in the blanks. <br>\n",
        "\n",
        "You are encouraged to post and answer questions on Canvas. Please ask questions on Canvas and send emails only for personal issues.\n",
        "\n",
        "If you alter the folder structures, the grading of your homework will be significantly delayed and possibly penalized.\n",
        "\n",
        "Be aware that your code will undergo plagiarism check both vertically and horizontally. Please do your own work.\n",
        "\n",
        "Late submission penalty: <br>\n",
        "There will be a 10% penalty per day for late submission. However, you will have THREE days throughout the whole semester to submit late without penalty. Note that the grace period is calculated by days instead of hours. If you submit the homework one minute after the deadline, one late day will be counted. Likewise, if you submit one minute after the deadline, the 10% penaly will be imposed if not using the grace period.\n"
      ]
    },
    {
      "cell_type": "code",
      "source": [],
      "metadata": {
        "id": "ECNtzCsut_ZK"
      },
      "id": "ECNtzCsut_ZK",
      "execution_count": null,
      "outputs": []
    }
  ],
  "metadata": {
    "kernelspec": {
      "display_name": "Python 3",
      "language": "python",
      "name": "python3"
    },
    "language_info": {
      "codemirror_mode": {
        "name": "ipython",
        "version": 3
      },
      "file_extension": ".py",
      "mimetype": "text/x-python",
      "name": "python",
      "nbconvert_exporter": "python",
      "pygments_lexer": "ipython3",
      "version": "3.8.8"
    },
    "colab": {
      "provenance": [],
      "collapsed_sections": [],
      "include_colab_link": true
    },
    "accelerator": "GPU",
    "gpuClass": "standard"
  },
  "nbformat": 4,
  "nbformat_minor": 5
}